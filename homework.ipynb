{
 "cells": [
  {
   "cell_type": "markdown",
   "metadata": {
    "collapsed": true,
    "pycharm": {
     "name": "#%% md\n"
    }
   },
   "source": [
    "# Курс по машинному обучению,   ВМК МГУ\n",
    "## Градиентный бустинг деревьев"
   ]
  },
  {
   "cell_type": "markdown",
   "metadata": {},
   "source": [
    "### Важно! О формате сдачи\n",
    "\n",
    "* **Практически все выделенные задания из ноутбука оцениваются по системе <font color='red'>кросс-рецензирования</font>. Задания, в котором надо реализовать свой код и послать в систему, выделены здесь и в pdf отдельно**\n",
    "* **В этом ноутбуке есть задание на ML-решение**\n",
    "* **При решении ноутбука используйте данный шаблон. Не нужно удалять текстовые ячейки c разметкой частей ноутбука и формулировками заданий. Добавлять свои ячейки, при необходимости, конечно можно**\n",
    "* **Везде, где в формулровке задания есть какой-либо вопрос (или просьба вывода), необходимо прописать ответ в ячейку (код или markdown).**\n",
    "* **Наличие кода решения обязательно. Письменные ответы на вопросы без сопутствующего кода оцениваются в 0 баллов.**"
   ]
  },
  {
   "cell_type": "markdown",
   "metadata": {},
   "source": [
    "**А также..**\n",
    "\n",
    "Если в ячейке написана фраза \"Вывод\"/\"Ответ на вопрос\" итд, то ожидается ответ в виде текста (можете добавить ячейки с кодом, если считаете это необходимым, но это необязательно). Если в ячейке написано \"Your code here\", то ожидается ответ в виде кода (можете добавить ячейки с кодом, если считаете это необходимым, но это необязательно). Если есть и ячейка с фразой \"Вывод\", и ячейка с фразой \"Your code here\", то в ответе ожидается и код, и текст)"
   ]
  },
  {
   "cell_type": "markdown",
   "metadata": {},
   "source": [
    "__В этом задании вы..:__\n",
    "\n",
    "- Познакомитесь с несколькими новыми библиотеками машинного обучения\n",
    "- Сравните между собой разные реализации градиентных бустингов\n",
    "- Примените все полученные знания для получения лучшего скора на датасете фильмов"
   ]
  },
  {
   "cell_type": "markdown",
   "metadata": {},
   "source": [
    "\n",
    "\n",
    "\n",
    "## Введение\n",
    "\n",
    "Привет, ребятушки!\n",
    "\n",
    "Сегодня мы с вами будем решать очень важную задачу, а именно оценивать цену поддержанных автомобилей в ряде стран. Делать мы это будем с помощью различных методов градиентного бустинга. Мы с вами узнаем, что в мире существует не только sklearn, и что существуют библиотеки, облегчающие нам задачу поиска оптимальных параметров для моделей.\n",
    "\n",
    "**Внимание! Во всех заданиях в качестве целевой метрики используется MAE (средняя абсолютная ошибка).** Значение MAE вычисляется как\n",
    "\n",
    "$$\n",
    "  MAE = \\sum_{i = 1}^N\\dfrac{|a(x_i) - y_i|}{N},\n",
    "$$\n",
    "\n",
    "где $N$ - число объектов в тестовой выборке, $x_i$ - вектор признаков i-го объекта, $a(x_i)$ - предсказание на i-ом объекте, $y_i$ - значение целевого признака на i-м объекте."
   ]
  },
  {
   "cell_type": "markdown",
   "metadata": {
    "pycharm": {
     "name": "#%% md\n"
    }
   },
   "source": [
    "## Установка дополнительных библиотек.\n",
    "\n",
    "В этом задании нам понадобятся три бибиотеки, которыми вы ранее не пользовались в этом курсе, а именно:\n",
    "\n",
    "**XGBoost**: Документация [здесь](https://xgboost.readthedocs.io/en/stable/).<br />\n",
    "**LightGBM**: Документация [здесь](https://lightgbm.readthedocs.io/en/latest/index.html). Также дополнительно про установку [тут](https://pypi.org/project/lightgbm/).<br />\n",
    "**Catboost**: Документация [здесь](https://catboost.ai/en/docs/). Можно найти также некоторую информацию на русском [тут](https://habr.com/ru/company/otus/blog/527554/).<br />\n",
    "**HyperOpt**: Документация [здесь](http://hyperopt.github.io/hyperopt/). <br />\n",
    "\n",
    "Все библиотеки легко ставятся через pip (либо альтернативные установщики вроде conda).\n"
   ]
  },
  {
   "cell_type": "markdown",
   "metadata": {
    "pycharm": {
     "name": "#%% md\n"
    }
   },
   "source": [
    "## Как правильно перебирать параметры\n",
    "\n",
    "В этом ноутбуке мы будем несколько раз заниматься поиском оптимальных параметров для градиентного бустинга, перебирая задания по заданной сетке. В этом задании от Вас не будет требоваться найти самые лучшие параметры, но всё равно важно правильно составлять сетку для перебора. Для этого нужно понимать суть параметров и их смысл.\n",
    "\n",
    "\n",
    "\n",
    "**learning_rate** -- темп обучения нашего метода. Для этого метода сетка перебора должна быть логарифмической, т.е. перебирать порядковые значения (к примеру, [1e-3, 1e-2, 1e-1, 1]). В большинстве случаев достаточно перебрать значения от 1e-5 до 1.<br />\n",
    "**max_depth** -- максимальная глубина деревьев в ансамбле. Вообще говоря, эта величина зависит от числа признаков, но обычно лучше растить небольшие деревья. К примеру, библиотека CatBoost, которую мы будем исследовать сегодня, рекомендует перебирать значения до 10 (и уточняется, что обычно оптимальная глубина лежит от 6 до 10).<br />\n",
    "**n_estimators** -- количество деревьев в ансамбле. Обычно стоит перебирать с каким-то крупным шагом (можно по логарифмической сетке). Здесь важно найти баланс между производительностью, временем обучения и качеством. Обычно нескольких тысяч деревьев бывает достаточно.<br />\n",
    "\n",
    "Учтите, что в реальных задачах необходимо следить за тем, что оптимальные значения параметров не попадают на границы интервалов, т.е. что вы нашли хотя бы локальный минимум. Если Вы перебрали значения параметра от 1 до 10 и оказалось, что 10 - оптимальное значение, значит следует перебрать и бОльшие числа, чтобы убедиться, что качество не улучшается дальше (или по крайней мере убедиться, что рост качества сильно замедляется и на сильное улучшения рассчитывать не стоит.\n"
   ]
  },
  {
   "cell_type": "markdown",
   "metadata": {},
   "source": [
    "## Подготовка датасета\n",
    "\n",
    "Все библиотеки, используемые сегодня, мы будем проверять на одних и тех же параметрах: n_estimators=1000, max_depth=5, learning_rate=0.1. Таким образом мы устанавливаем, соответственно, число деревьев в ансамбле равным 1000, ограничиваем максимальную глубину деревьев 5 и устанавливаем темп обучения равным 0.1. Создадим сразу словарь, чтобы передавать эти параметры создаваемым регрессорам (если вдруг не знали, словарь можно передавать как параметры, поставив перед ним **).\n",
    "\n",
    "Эти параметры мы вынесем в отдельную переменную `test_parameters`.\n",
    "\n",
    "<span style=\"color:red\">Загрузите датасет, с которым мы будем работать. Его можно найти на платформе cv-gml.ru, в задании `Град. бустинг (ML)`, по ссылке `Дополнительные файлы для решения`. Если Вы решите сохранить этот файл не рядом с ноутбуком, Вы можете исправить путь к этому файлу во второй ячейке ноутбука (в строке с `read_csv`).</span>\n",
    "\n",
    "При желании можно почитать про этот датасет на платформе kaggle: [ссылка на данные](https://www.kaggle.com/bushnag/cars-in-the-middle-east?select=dataframe_YesIndex_YesHeader_C.csv). <span style=\"color:red\"> Не скачивайте датасет из kaggle для выполнения ноутбука, поскольку его могут изменить.</span> Нас интересует файл dataframe_YesIndex_YesHeader_C.csv, поскольку он уже хорошо предобработан (хотя, конечно, датасаентисты должны сами уметь это делать, но ладно).\n",
    "Давайте попробуем загрузить датасет в память и посмотреть, как он выглядит."
   ]
  },
  {
   "cell_type": "code",
   "execution_count": 1,
   "metadata": {
    "pycharm": {
     "name": "#%%\n"
    }
   },
   "outputs": [],
   "source": [
    "%matplotlib inline\n",
    "from sklearn.ensemble import GradientBoostingRegressor\n",
    "from sklearn.model_selection import train_test_split, GridSearchCV, cross_val_score\n",
    "from sklearn.metrics import mean_absolute_error, make_scorer\n",
    "\n",
    "from hyperopt import hp, tpe, Trials\n",
    "from hyperopt.fmin import fmin\n",
    "from hyperopt.pyll import scope\n",
    "\n",
    "from xgboost import XGBRegressor\n",
    "\n",
    "from lightgbm import LGBMRegressor\n",
    "\n",
    "from catboost import CatBoostRegressor\n",
    "\n",
    "import matplotlib.pyplot as plt\n",
    "\n",
    "import pandas as pd\n",
    "\n",
    "import numpy as np\n",
    "\n",
    "import time"
   ]
  },
  {
   "cell_type": "code",
   "execution_count": 2,
   "metadata": {
    "pycharm": {
     "name": "#%%\n"
    }
   },
   "outputs": [
    {
     "data": {
      "text/html": [
       "<div>\n",
       "<style scoped>\n",
       "    .dataframe tbody tr th:only-of-type {\n",
       "        vertical-align: middle;\n",
       "    }\n",
       "\n",
       "    .dataframe tbody tr th {\n",
       "        vertical-align: top;\n",
       "    }\n",
       "\n",
       "    .dataframe thead th {\n",
       "        text-align: right;\n",
       "    }\n",
       "</style>\n",
       "<table border=\"1\" class=\"dataframe\">\n",
       "  <thead>\n",
       "    <tr style=\"text-align: right;\">\n",
       "      <th></th>\n",
       "      <th>Engine Capacity</th>\n",
       "      <th>Cylinders</th>\n",
       "      <th>Drive Type</th>\n",
       "      <th>Fuel Tank Capacity</th>\n",
       "      <th>Fuel Economy</th>\n",
       "      <th>Fuel Type</th>\n",
       "      <th>Horsepower</th>\n",
       "      <th>Torque</th>\n",
       "      <th>Transmission</th>\n",
       "      <th>Top Speed</th>\n",
       "      <th>...</th>\n",
       "      <th>Acceleration</th>\n",
       "      <th>Length</th>\n",
       "      <th>Width</th>\n",
       "      <th>Height</th>\n",
       "      <th>Wheelbase</th>\n",
       "      <th>Trunk Capacity</th>\n",
       "      <th>name</th>\n",
       "      <th>price</th>\n",
       "      <th>currency</th>\n",
       "      <th>Country</th>\n",
       "    </tr>\n",
       "  </thead>\n",
       "  <tbody>\n",
       "    <tr>\n",
       "      <th>0</th>\n",
       "      <td>1.2</td>\n",
       "      <td>3</td>\n",
       "      <td>0</td>\n",
       "      <td>42.0</td>\n",
       "      <td>4.9</td>\n",
       "      <td>0</td>\n",
       "      <td>76</td>\n",
       "      <td>100.0</td>\n",
       "      <td>0</td>\n",
       "      <td>170</td>\n",
       "      <td>...</td>\n",
       "      <td>14.0</td>\n",
       "      <td>4.245</td>\n",
       "      <td>1.670</td>\n",
       "      <td>1.515</td>\n",
       "      <td>2.550</td>\n",
       "      <td>450.0</td>\n",
       "      <td>Mitsubishi Attrage 2021 1.2 GLX (Base)</td>\n",
       "      <td>34099.0</td>\n",
       "      <td>0</td>\n",
       "      <td>0</td>\n",
       "    </tr>\n",
       "    <tr>\n",
       "      <th>1</th>\n",
       "      <td>1.2</td>\n",
       "      <td>3</td>\n",
       "      <td>0</td>\n",
       "      <td>42.0</td>\n",
       "      <td>4.9</td>\n",
       "      <td>0</td>\n",
       "      <td>76</td>\n",
       "      <td>100.0</td>\n",
       "      <td>0</td>\n",
       "      <td>170</td>\n",
       "      <td>...</td>\n",
       "      <td>14.0</td>\n",
       "      <td>4.245</td>\n",
       "      <td>1.670</td>\n",
       "      <td>1.515</td>\n",
       "      <td>2.550</td>\n",
       "      <td>450.0</td>\n",
       "      <td>Mitsubishi Attrage 2021 1.2 GLX (Base)</td>\n",
       "      <td>34099.0</td>\n",
       "      <td>0</td>\n",
       "      <td>0</td>\n",
       "    </tr>\n",
       "    <tr>\n",
       "      <th>2</th>\n",
       "      <td>1.4</td>\n",
       "      <td>4</td>\n",
       "      <td>0</td>\n",
       "      <td>45.0</td>\n",
       "      <td>6.3</td>\n",
       "      <td>0</td>\n",
       "      <td>75</td>\n",
       "      <td>118.0</td>\n",
       "      <td>1</td>\n",
       "      <td>156</td>\n",
       "      <td>...</td>\n",
       "      <td>16.0</td>\n",
       "      <td>3.864</td>\n",
       "      <td>1.716</td>\n",
       "      <td>1.721</td>\n",
       "      <td>2.513</td>\n",
       "      <td>2800.0</td>\n",
       "      <td>Fiat Fiorino 2021 1.4L Standard</td>\n",
       "      <td>41250.0</td>\n",
       "      <td>0</td>\n",
       "      <td>0</td>\n",
       "    </tr>\n",
       "    <tr>\n",
       "      <th>3</th>\n",
       "      <td>1.6</td>\n",
       "      <td>4</td>\n",
       "      <td>0</td>\n",
       "      <td>50.0</td>\n",
       "      <td>6.4</td>\n",
       "      <td>0</td>\n",
       "      <td>102</td>\n",
       "      <td>145.0</td>\n",
       "      <td>0</td>\n",
       "      <td>180</td>\n",
       "      <td>...</td>\n",
       "      <td>11.0</td>\n",
       "      <td>4.354</td>\n",
       "      <td>1.994</td>\n",
       "      <td>1.529</td>\n",
       "      <td>2.635</td>\n",
       "      <td>510.0</td>\n",
       "      <td>Renault Symbol 2021 1.6L PE</td>\n",
       "      <td>44930.0</td>\n",
       "      <td>0</td>\n",
       "      <td>0</td>\n",
       "    </tr>\n",
       "    <tr>\n",
       "      <th>4</th>\n",
       "      <td>1.5</td>\n",
       "      <td>4</td>\n",
       "      <td>0</td>\n",
       "      <td>48.0</td>\n",
       "      <td>5.8</td>\n",
       "      <td>0</td>\n",
       "      <td>112</td>\n",
       "      <td>150.0</td>\n",
       "      <td>0</td>\n",
       "      <td>170</td>\n",
       "      <td>...</td>\n",
       "      <td>10.9</td>\n",
       "      <td>4.314</td>\n",
       "      <td>1.809</td>\n",
       "      <td>1.624</td>\n",
       "      <td>2.585</td>\n",
       "      <td>448.0</td>\n",
       "      <td>MG ZS 2021 1.5L STD</td>\n",
       "      <td>57787.0</td>\n",
       "      <td>0</td>\n",
       "      <td>0</td>\n",
       "    </tr>\n",
       "  </tbody>\n",
       "</table>\n",
       "<p>5 rows × 21 columns</p>\n",
       "</div>"
      ],
      "text/plain": [
       "   Engine Capacity  Cylinders  Drive Type  Fuel Tank Capacity  Fuel Economy  \\\n",
       "0              1.2          3           0                42.0           4.9   \n",
       "1              1.2          3           0                42.0           4.9   \n",
       "2              1.4          4           0                45.0           6.3   \n",
       "3              1.6          4           0                50.0           6.4   \n",
       "4              1.5          4           0                48.0           5.8   \n",
       "\n",
       "   Fuel Type  Horsepower  Torque  Transmission  Top Speed  ...  Acceleration  \\\n",
       "0          0          76   100.0             0        170  ...          14.0   \n",
       "1          0          76   100.0             0        170  ...          14.0   \n",
       "2          0          75   118.0             1        156  ...          16.0   \n",
       "3          0         102   145.0             0        180  ...          11.0   \n",
       "4          0         112   150.0             0        170  ...          10.9   \n",
       "\n",
       "   Length  Width  Height  Wheelbase  Trunk Capacity  \\\n",
       "0   4.245  1.670   1.515      2.550           450.0   \n",
       "1   4.245  1.670   1.515      2.550           450.0   \n",
       "2   3.864  1.716   1.721      2.513          2800.0   \n",
       "3   4.354  1.994   1.529      2.635           510.0   \n",
       "4   4.314  1.809   1.624      2.585           448.0   \n",
       "\n",
       "                                     name    price  currency  Country  \n",
       "0  Mitsubishi Attrage 2021 1.2 GLX (Base)  34099.0         0        0  \n",
       "1  Mitsubishi Attrage 2021 1.2 GLX (Base)  34099.0         0        0  \n",
       "2         Fiat Fiorino 2021 1.4L Standard  41250.0         0        0  \n",
       "3             Renault Symbol 2021 1.6L PE  44930.0         0        0  \n",
       "4                     MG ZS 2021 1.5L STD  57787.0         0        0  \n",
       "\n",
       "[5 rows x 21 columns]"
      ]
     },
     "execution_count": 2,
     "metadata": {},
     "output_type": "execute_result"
    }
   ],
   "source": [
    "test_parameters = {\"n_estimators\": 1000, \"max_depth\": 5, \"learning_rate\":0.1}\n",
    "\n",
    "df = pd.read_csv('data/dataframe_YesIndex_YesHeader_C.csv', index_col=0)\n",
    "df.head()"
   ]
  },
  {
   "cell_type": "markdown",
   "metadata": {
    "pycharm": {
     "name": "#%% md\n"
    }
   },
   "source": [
    "### Задание 0 (без проверки, 0 баллов)\n",
    "\n",
    "Посмотрите на цены автомобилей. Попробуйте понять, написаны они в одной валюте или нет. Если нет -- будут ли у нас серьезные проблемы при использовании деревьев? Стоит ли нам что-то сделать для того, чтобы нивелировать эту проблему?\n"
   ]
  },
  {
   "cell_type": "code",
   "execution_count": 3,
   "metadata": {},
   "outputs": [
    {
     "data": {
      "text/plain": [
       "(0, 5)"
      ]
     },
     "execution_count": 3,
     "metadata": {},
     "output_type": "execute_result"
    }
   ],
   "source": [
    "df['currency'].min(), df['currency'].max() ## 6 валют"
   ]
  },
  {
   "cell_type": "markdown",
   "metadata": {},
   "source": [
    "В глаза бросаются две проблемы: у нас имеется информация о производителе автомобиля, скрытая в текстовой переменной модели автомобиля (нет отдельного признака). Также имеются некоторые категориальные переменные. Со всем этим безобразием надо что-то сделать.\n",
    "\n",
    "### **Задание 1 (кросс-проверка, 3 балла)**\n",
    "**Данные**: датасет со стоимостью поддержанных автомобилей  \n",
    "**Цели**: В данном задании следует выполнить следующие пункты (выполнять можно в любом порядке)\n",
    "1. Изучить датасет, проверить наличие пропусков. При необходимости заменить их на среднее значение признака.\n",
    "3. Добавить столбец brand с информацией о производителе автомобиля (для простоты можно взять первое слово в названии модели)\n",
    "4. Решить, какие признаки Вы хотите сделать категориальными. Конвертировать выбранные категориальные столбцы в тип category. \n",
    "5. Создать датасет А с категориальными признаками в виде категорий. Для этого необходимо создать вектор целевых значений (столбец цен автомобилей) и матрицу признаков с категориальными переменными в виде категорий (получается путем удаления только целевой переменной из матрицы с данными). Дополнительно стоит создать список с названиями и индексами столбцов категориальных переменных (поможет в будущем).\n",
    "6. Создать датасет B без категориальных признаков. Для этого необходимо создать вектор целевых значений (столбец цен автомобилей) и удалить из матрицы признаков столбец с целевыми переменными, а также все категориальные переменные.\n",
    "8. Создать датасет C с категориальными признаками в виде one-hot encoding. Для этого необходимо создать вектор целевых значений (столбец цен автомобилей), удалить из матрицы признаков столбец с целевыми переменными и все категориальными переменные, а затем добавить новые признаки, соответствующие one-hot encoding категориальных переменных (здесь вам поможет функция `pd.get_dummies`).\n",
    "9. Разбить датасеты на тренировочное и тестовое множества, используя `train_test_split(X, y, test_size=0.25, random_state=0)` (зафиксировав random_seed мы получим одинаковое разбиение на обучение/тест для всех трёх выборок)."
   ]
  },
  {
   "cell_type": "code",
   "execution_count": 4,
   "metadata": {
    "pycharm": {
     "name": "#%%\n"
    }
   },
   "outputs": [],
   "source": [
    "datasets = {'A' : None, 'B': None, 'C': None}"
   ]
  },
  {
   "cell_type": "code",
   "execution_count": 5,
   "metadata": {},
   "outputs": [
    {
     "name": "stdout",
     "output_type": "stream",
     "text": [
      "Пропущенных значений нет!\n"
     ]
    }
   ],
   "source": [
    "## 1 ##\n",
    "if not df.isnull().values.any():\n",
    "    print('Пропущенных значений нет!')"
   ]
  },
  {
   "cell_type": "code",
   "execution_count": 6,
   "metadata": {},
   "outputs": [
    {
     "data": {
      "text/html": [
       "<div>\n",
       "<style scoped>\n",
       "    .dataframe tbody tr th:only-of-type {\n",
       "        vertical-align: middle;\n",
       "    }\n",
       "\n",
       "    .dataframe tbody tr th {\n",
       "        vertical-align: top;\n",
       "    }\n",
       "\n",
       "    .dataframe thead th {\n",
       "        text-align: right;\n",
       "    }\n",
       "</style>\n",
       "<table border=\"1\" class=\"dataframe\">\n",
       "  <thead>\n",
       "    <tr style=\"text-align: right;\">\n",
       "      <th></th>\n",
       "      <th>Engine Capacity</th>\n",
       "      <th>Cylinders</th>\n",
       "      <th>Drive Type</th>\n",
       "      <th>Fuel Tank Capacity</th>\n",
       "      <th>Fuel Economy</th>\n",
       "      <th>Fuel Type</th>\n",
       "      <th>Horsepower</th>\n",
       "      <th>Torque</th>\n",
       "      <th>Transmission</th>\n",
       "      <th>Top Speed</th>\n",
       "      <th>...</th>\n",
       "      <th>Length</th>\n",
       "      <th>Width</th>\n",
       "      <th>Height</th>\n",
       "      <th>Wheelbase</th>\n",
       "      <th>Trunk Capacity</th>\n",
       "      <th>name</th>\n",
       "      <th>price</th>\n",
       "      <th>currency</th>\n",
       "      <th>Country</th>\n",
       "      <th>brand</th>\n",
       "    </tr>\n",
       "  </thead>\n",
       "  <tbody>\n",
       "    <tr>\n",
       "      <th>5665</th>\n",
       "      <td>6.5</td>\n",
       "      <td>12</td>\n",
       "      <td>1</td>\n",
       "      <td>90.0</td>\n",
       "      <td>16.0</td>\n",
       "      <td>0</td>\n",
       "      <td>770</td>\n",
       "      <td>720.0</td>\n",
       "      <td>0</td>\n",
       "      <td>350</td>\n",
       "      <td>...</td>\n",
       "      <td>4.343</td>\n",
       "      <td>2.098</td>\n",
       "      <td>1.136</td>\n",
       "      <td>2.700</td>\n",
       "      <td>140.0</td>\n",
       "      <td>Lamborghini Aventador SVJ 2021 LP770-4 Coupe</td>\n",
       "      <td>1850000.0</td>\n",
       "      <td>2</td>\n",
       "      <td>2</td>\n",
       "      <td>Lamborghini</td>\n",
       "    </tr>\n",
       "    <tr>\n",
       "      <th>5667</th>\n",
       "      <td>8.0</td>\n",
       "      <td>16</td>\n",
       "      <td>1</td>\n",
       "      <td>100.0</td>\n",
       "      <td>22.5</td>\n",
       "      <td>0</td>\n",
       "      <td>1500</td>\n",
       "      <td>1600.0</td>\n",
       "      <td>0</td>\n",
       "      <td>420</td>\n",
       "      <td>...</td>\n",
       "      <td>4.544</td>\n",
       "      <td>2.037</td>\n",
       "      <td>1.212</td>\n",
       "      <td>2.711</td>\n",
       "      <td>45.0</td>\n",
       "      <td>Bugatti Chiron 2021 8.0L W16</td>\n",
       "      <td>9600000.0</td>\n",
       "      <td>2</td>\n",
       "      <td>2</td>\n",
       "      <td>Bugatti</td>\n",
       "    </tr>\n",
       "  </tbody>\n",
       "</table>\n",
       "<p>2 rows × 22 columns</p>\n",
       "</div>"
      ],
      "text/plain": [
       "      Engine Capacity  Cylinders  Drive Type  Fuel Tank Capacity  \\\n",
       "5665              6.5         12           1                90.0   \n",
       "5667              8.0         16           1               100.0   \n",
       "\n",
       "      Fuel Economy  Fuel Type  Horsepower  Torque  Transmission  Top Speed  \\\n",
       "5665          16.0          0         770   720.0             0        350   \n",
       "5667          22.5          0        1500  1600.0             0        420   \n",
       "\n",
       "      ...  Length  Width  Height  Wheelbase  Trunk Capacity  \\\n",
       "5665  ...   4.343  2.098   1.136      2.700           140.0   \n",
       "5667  ...   4.544  2.037   1.212      2.711            45.0   \n",
       "\n",
       "                                               name      price currency  \\\n",
       "5665  Lamborghini Aventador SVJ 2021 LP770-4 Coupe   1850000.0        2   \n",
       "5667                   Bugatti Chiron 2021 8.0L W16  9600000.0        2   \n",
       "\n",
       "      Country        brand  \n",
       "5665        2  Lamborghini  \n",
       "5667        2      Bugatti  \n",
       "\n",
       "[2 rows x 22 columns]"
      ]
     },
     "execution_count": 6,
     "metadata": {},
     "output_type": "execute_result"
    }
   ],
   "source": [
    "## 2 ##\n",
    "df['brand'] = df['name'].apply(lambda s: s.split()[0], convert_dtype=False)\n",
    "# df.drop('name', axis='column', inplace=True)\n",
    "df.tail(2)"
   ]
  },
  {
   "cell_type": "code",
   "execution_count": 7,
   "metadata": {},
   "outputs": [
    {
     "data": {
      "text/plain": [
       "CategoricalDtype(categories=[0, 1, 2], ordered=False)"
      ]
     },
     "execution_count": 7,
     "metadata": {},
     "output_type": "execute_result"
    }
   ],
   "source": [
    "## 3 ##\n",
    "categorical_features = ['Transmission', 'Fuel Type', 'Drive Type', 'name', 'Country', 'currency', 'brand']\n",
    "dct = dict(zip(categorical_features, ['category']*len(categorical_features)))\n",
    "df = df.astype(dct, copy=False)\n",
    "df[categorical_features[1]].dtype"
   ]
  },
  {
   "cell_type": "code",
   "execution_count": 8,
   "metadata": {},
   "outputs": [],
   "source": [
    "## 4, 5, 6, 7 ##\n",
    "X = df.drop('price', axis='columns')\n",
    "y = df['price']\n",
    "X_A = X\n",
    "X_B = X.drop(categorical_features, axis='columns')\n",
    "X_C = X_B.join(pd.get_dummies(X_A[categorical_features]))\n",
    "\n",
    "datasets['A'] = dict(zip(['X_train', 'X_test', 'y_train', 'y_test'], train_test_split(X_A, y, test_size=0.25, random_state=0)))\n",
    "datasets['B'] = dict(zip(['X_train', 'X_test', 'y_train', 'y_test'], train_test_split(X_B, y, test_size=0.25, random_state=0)))\n",
    "datasets['C'] = dict(zip(['X_train', 'X_test', 'y_train', 'y_test'], train_test_split(X_C, y, test_size=0.25, random_state=0)))"
   ]
  },
  {
   "cell_type": "markdown",
   "metadata": {
    "pycharm": {
     "name": "#%% md\n"
    }
   },
   "source": [
    "Итак, кажется, что у нас всё готово для того, чтобы начать искать ответы на волнующие нас вопросы. Начнем со столь любимой нами библиотеки, а именно...\n",
    "\n",
    "## Градиентный бустинг со sklearn\n",
    "\n",
    "Естественно, в sklearn имеется реализация градиентного бустинга, которая хранится в sklearn.ensemble.GradientBoostingRegressor. Преимущественно данным классом пользуются в учебных заданиях, поскольку в реальных задачах предпочтение отдаётся другим библиотекам. Давайте попробуем понять, заслуженно ли градиентный бустинг в sklearn не пользуется популярностью.\n",
    "\n",
    "FYI: в sklearn имеется также реализация GradientBoostingClassifier для задач классификации, но пользоваться им мы сегодня не будем.\n",
    "\n",
    "GradientBoostingRegressor из коробки не умеет работать с категориальными признаками. Мы к этому уже подготовились, закодировав наши признаки.\n",
    "\n",
    "### **Задание 2 (кросс-проверка, 2 балла)**:\n",
    "\n",
    "**Данные**: датасет со стоимостью поддержанных автомобилей    \n",
    "**Метрика**: MAE    \n",
    "**Цели**: В данном задании следует выполнить следующие пункты:    \n",
    "1. Обучить sklearn.ensemble.GradientBoostingRegressor на датасетах B и C, используя параметры n_estimators=1000, max_depth=5, learning_rate=0.1 (наши `test_parameters`). Замерьте время обучения, получите предсказания данных моделей на тестовом множестве.\n",
    "2. Обучить sklearn.ensemble.GradientBoostingRegressor на датасете B (можно и на C, если позволяют вычислительные ресурсы), используя кросс-валидацию на тренировочном множестве и подбирая значения для параметров n_estimators, learning_rate и max_depth. для простоты можете воспользоваться GridSearchCV. При необходимости можно оптимизировать параметры по одному, а не все сразу. Выведите лучшие параметры. Получите предсказания лучшей модели (с лучшими параметрами) на тестовом множестве. Для ускорения процесса не забудьте воспользоваться n_jobs.\n",
    "3. Посчитать MAE для полученных предсказаний на тренировочном и тестовом множествах (можно воспользоваться sklearn.metrics.mean_absolute_error).\n",
    "5. Вывести результаты и время в таблице DataFrame.\n",
    "4. Сделайте выводы. Оцените полезность категориальных переменных и поиска оптимальных параметров. Оцените время, затраченное на обучение. Попробуйте дать оценку получившемуся MAE: оно большое или маленькое?\n"
   ]
  },
  {
   "cell_type": "code",
   "execution_count": 9,
   "metadata": {
    "pycharm": {
     "name": "#%%\n"
    }
   },
   "outputs": [],
   "source": [
    "df_skl = pd.DataFrame(columns=['Dataset', 'Parameters', 'Time', 'MAE'])\n",
    "\n",
    "def get_best_params(model, param_grid, dataset, n_jobs=None, **kwargs):\n",
    "    best_params = {}\n",
    "    for param in param_grid:\n",
    "        p_grid = {param: param_grid[param]}\n",
    "        cv_model = GridSearchCV(model(**kwargs), param_grid=p_grid, scoring='neg_mean_absolute_error', n_jobs=n_jobs)\n",
    "        print(param + '...')\n",
    "        %timeit -n1 -r1 -o cv_model.fit(datasets[dataset]['X_train'], datasets[dataset]['y_train'])\n",
    "        best_params.update(cv_model.best_params_)\n",
    "    return best_params\n",
    "\n",
    "def get_mae(model, dataset):\n",
    "    y_pred_train = model.predict(datasets[dataset]['X_train'])\n",
    "    y_pred_test  = model.predict(datasets[dataset]['X_test'])\n",
    "    mae_train = mean_absolute_error(datasets[dataset]['y_train'], y_pred_train)\n",
    "    mae_test  = mean_absolute_error(datasets[dataset]['y_test'],  y_pred_test)\n",
    "    return mae_train, mae_test"
   ]
  },
  {
   "cell_type": "code",
   "execution_count": 10,
   "metadata": {},
   "outputs": [],
   "source": [
    "## 1 ##\n",
    "\n",
    "skl_B = GradientBoostingRegressor(**test_parameters)\n",
    "skl_C = GradientBoostingRegressor(**test_parameters)\n",
    "\n",
    "t_B = %timeit -n1 -r1 -o -q skl_B.fit(datasets['B']['X_train'], datasets['B']['y_train'])\n",
    "t_C = %timeit -n1 -r1 -o -q skl_C.fit(datasets['C']['X_train'], datasets['C']['y_train'])\n",
    "t_B = t_B.average\n",
    "t_C = t_C.average\n",
    "\n",
    "y_pred_skl_B = skl_B.predict(datasets['B']['X_test'])\n",
    "y_pred_skl_C = skl_C.predict(datasets['C']['X_test'])"
   ]
  },
  {
   "cell_type": "code",
   "execution_count": 11,
   "metadata": {},
   "outputs": [],
   "source": [
    "## 2 ##\n",
    "\n",
    "learning_rate_grid = np.logspace(-6, 0, 7)\n",
    "max_depth_grid     = np.arange(5, 11)\n",
    "n_estimators_grid  = list(map(int, np.linspace(200, 2000, 10)))\n",
    "\n",
    "param_grid = {'n_estimators': n_estimators_grid, 'max_depth': max_depth_grid, 'learning_rate': learning_rate_grid}"
   ]
  },
  {
   "cell_type": "code",
   "execution_count": 12,
   "metadata": {
    "scrolled": true
   },
   "outputs": [
    {
     "name": "stdout",
     "output_type": "stream",
     "text": [
      "n_estimators...\n",
      "3min 26s ± 0 ns per loop (mean ± std. dev. of 1 run, 1 loop each)\n",
      "max_depth...\n",
      "29 s ± 0 ns per loop (mean ± std. dev. of 1 run, 1 loop each)\n",
      "learning_rate...\n",
      "11.6 s ± 0 ns per loop (mean ± std. dev. of 1 run, 1 loop each)\n",
      "Лучшие параметры: {'n_estimators': 800, 'max_depth': 7, 'learning_rate': 0.1}\n"
     ]
    }
   ],
   "source": [
    "best_params = get_best_params(GradientBoostingRegressor, param_grid, dataset='B', n_jobs=4)\n",
    "print('Лучшие параметры:', best_params)"
   ]
  },
  {
   "cell_type": "code",
   "execution_count": 13,
   "metadata": {},
   "outputs": [
    {
     "name": "stdout",
     "output_type": "stream",
     "text": [
      "16.2 s ± 0 ns per loop (mean ± std. dev. of 1 run, 1 loop each)\n"
     ]
    }
   ],
   "source": [
    "skl_B_cv = GradientBoostingRegressor(**best_params)\n",
    "t_B_cv = %timeit -n1 -r1 -o skl_B_cv.fit(datasets['B']['X_train'], datasets['B']['y_train'])\n",
    "t_B_cv = t_B_cv.average\n",
    "\n",
    "y_pred_skl_B_cv = skl_B_cv.predict(datasets['B']['X_test'])"
   ]
  },
  {
   "cell_type": "code",
   "execution_count": 14,
   "metadata": {},
   "outputs": [],
   "source": [
    "## 3 ##\n",
    "mae_B    = get_mae(skl_B, 'B')\n",
    "mae_C    = get_mae(skl_C, 'C')\n",
    "mae_B_cv = get_mae(skl_B_cv, 'B')"
   ]
  },
  {
   "cell_type": "code",
   "execution_count": 15,
   "metadata": {},
   "outputs": [
    {
     "data": {
      "text/html": [
       "<div>\n",
       "<style scoped>\n",
       "    .dataframe tbody tr th:only-of-type {\n",
       "        vertical-align: middle;\n",
       "    }\n",
       "\n",
       "    .dataframe tbody tr th {\n",
       "        vertical-align: top;\n",
       "    }\n",
       "\n",
       "    .dataframe thead th {\n",
       "        text-align: right;\n",
       "    }\n",
       "</style>\n",
       "<table border=\"1\" class=\"dataframe\">\n",
       "  <thead>\n",
       "    <tr style=\"text-align: right;\">\n",
       "      <th></th>\n",
       "      <th>Dataset</th>\n",
       "      <th>Parameters</th>\n",
       "      <th>Time</th>\n",
       "      <th>MAE</th>\n",
       "    </tr>\n",
       "  </thead>\n",
       "  <tbody>\n",
       "    <tr>\n",
       "      <th>0</th>\n",
       "      <td>B</td>\n",
       "      <td>{'n_estimators': 1000, 'max_depth': 5, 'learni...</td>\n",
       "      <td>13.243317</td>\n",
       "      <td>(91885.18887320267, 123143.90719343587)</td>\n",
       "    </tr>\n",
       "    <tr>\n",
       "      <th>1</th>\n",
       "      <td>C</td>\n",
       "      <td>{'n_estimators': 1000, 'max_depth': 5, 'learni...</td>\n",
       "      <td>141.177384</td>\n",
       "      <td>(8830.929800439195, 21803.39748413522)</td>\n",
       "    </tr>\n",
       "    <tr>\n",
       "      <th>2</th>\n",
       "      <td>B</td>\n",
       "      <td>{'n_estimators': 800, 'max_depth': 7, 'learnin...</td>\n",
       "      <td>16.243462</td>\n",
       "      <td>(91493.68599242205, 123615.4063302318)</td>\n",
       "    </tr>\n",
       "  </tbody>\n",
       "</table>\n",
       "</div>"
      ],
      "text/plain": [
       "  Dataset                                         Parameters        Time  \\\n",
       "0       B  {'n_estimators': 1000, 'max_depth': 5, 'learni...   13.243317   \n",
       "1       C  {'n_estimators': 1000, 'max_depth': 5, 'learni...  141.177384   \n",
       "2       B  {'n_estimators': 800, 'max_depth': 7, 'learnin...   16.243462   \n",
       "\n",
       "                                       MAE  \n",
       "0  (91885.18887320267, 123143.90719343587)  \n",
       "1   (8830.929800439195, 21803.39748413522)  \n",
       "2   (91493.68599242205, 123615.4063302318)  "
      ]
     },
     "execution_count": 15,
     "metadata": {},
     "output_type": "execute_result"
    }
   ],
   "source": [
    "## 4 ##\n",
    "df_skl.loc[0] = ['B', test_parameters, t_B, mae_B]\n",
    "df_skl.loc[1] = ['C', test_parameters, t_C, mae_C]\n",
    "df_skl.loc[2] = ['B', best_params,     t_B_cv, mae_B_cv]\n",
    "df_skl"
   ]
  },
  {
   "cell_type": "code",
   "execution_count": 16,
   "metadata": {},
   "outputs": [
    {
     "data": {
      "text/plain": [
       "(2899.0, 10780000.0)"
      ]
     },
     "execution_count": 16,
     "metadata": {},
     "output_type": "execute_result"
    }
   ],
   "source": [
    "## 5 ##\n",
    "df['price'].min(), df['price'].max()"
   ]
  },
  {
   "cell_type": "markdown",
   "metadata": {},
   "source": [
    "**Ваши выводы:**\n",
    "1. По MAE видно, что категориальные признаки улучшают качество. Поиск оптимальных параметров также заметно улучшил предсказания;\n",
    "2. На датасете с категориальными признаками моделька учится почти в 15 раз дольше. Модель с оптимальными параметрами учится почти в 5 раз дольше базовой, но зато заметно увеличивается точность;\n",
    "3. В датасете очень много машин с ценами, большими даже 1 млн, а минимальная цена машины 2899. Поэтому MAE в несколько десятков тысяч -- очень хороший результат (то есть MAE получился очень маленьким)."
   ]
  },
  {
   "cell_type": "markdown",
   "metadata": {},
   "source": [
    "И так, sklearn предлагает нам привычный и простой способ тренировки моделей. Однако, для градиентного бустинга существует множество эвристик и трюков, помогающих улучшить результаты. И одна из библиотек, реализующая улучшенную версию бустинга, называется xgboost.\n",
    "\n",
    "## Градиентный бустинг с XGBoost\n",
    "\n",
    "XGBoost стала достаточно популярной библиотекой, которая позволяет добиться хороших результатов без особых усилий (во всяком случае, так гласят легенды). И у нас для вас две новости: хорошая и плохая. Хорошая – xgboost, хоть и является сторонней библиотекой, сохраняет интерфейс sklearn и даже прекрасно работает с GridSearchCV. Плохая – она тоже не умеет из коробки работать с категориальными признаками. Ну что же, давайте пощупаем это безобразие. На этот раз нас интересует класс xgboost.XGBRegressor.\n",
    "\n",
    "Update: относительно недавно в xgboost появилась экспериментальная поддержка категориальных переменных, которая еще не добавлена в стабильную версию, поэтому ею мы пользоваться пока не будем.\n",
    "\n",
    "### Задание 3 (кросс-проверка, 2 балла):\n",
    "**Данные**: датасет со стоимостью поддержанных автомобилей  \n",
    "**Метрика**: MAE  \n",
    "**Цели**: В данном задании следует выполнить следующие пункты:  \n",
    "1. Обучить xgboost.XGBRegressor на датасетах B и C, используя параметры n_estimators=1000, max_depth=5, learning_rate=0.1 (наши `test_parameters`). Замерьте время обучения. Получите предсказания данных моделей на тестовом множестве.\n",
    "2. Обучить xgboost.XGBRegressor на датасетах B и C, используя кросс-валидацию на тренировочном множестве и подбирая значения для параметров n_estimators, learning_rate и max_depth (для простоты можете воспользоваться GridSearchCV). При необходимости можно оптимизировать параметры по одному, а не все сразу. Замерьте время перебора, получите предсказания лучшей модели (с лучшими параметрами) на тестовом множестве. В этом случае устанавливать n_jobs у GridSearchCV не рекомендую, поскольку xgboost сам умеет захватывать все доступные ресурсы, и если GridSearchCV начнет их размножать, то последствия будут печальны.\n",
    "3. Посчитать MAE для полученных предсказаний на тренировочном и тестовом множествах (можно воспользоваться sklearn.metrics.mean_absolute_error).\n",
    "1. Выведите результаты и время в таблице DataFrame.\n",
    "4. Сделайте выводы. Оцените полезность категориальных переменных и поиска оптимальных параметров. Оцените время, затраченное на обучение. Сравните результаты со sklearn."
   ]
  },
  {
   "cell_type": "code",
   "execution_count": 17,
   "metadata": {
    "pycharm": {
     "name": "#%%\n"
    }
   },
   "outputs": [],
   "source": [
    "df_xgb = pd.DataFrame(columns=['Dataset', 'Parameters', 'Time', 'MAE'])"
   ]
  },
  {
   "cell_type": "code",
   "execution_count": 18,
   "metadata": {},
   "outputs": [],
   "source": [
    "## 1 ##\n",
    "xgb_B = XGBRegressor(**test_parameters)\n",
    "xgb_C = XGBRegressor(**test_parameters)\n",
    "\n",
    "t_B = %timeit -n1 -r1 -o -q xgb_B.fit(datasets['B']['X_train'], datasets['B']['y_train'])\n",
    "t_C = %timeit -n1 -r1 -o -q xgb_C.fit(datasets['C']['X_train'], datasets['C']['y_train'])\n",
    "t_B = t_B.average\n",
    "t_C = t_C.average\n",
    "\n",
    "y_pred_xgb_B = xgb_B.predict(datasets['B']['X_test'])\n",
    "y_pred_xgb_C = xgb_C.predict(datasets['C']['X_test'])"
   ]
  },
  {
   "cell_type": "code",
   "execution_count": 19,
   "metadata": {},
   "outputs": [
    {
     "name": "stdout",
     "output_type": "stream",
     "text": [
      "n_estimators...\n",
      "4min 16s ± 0 ns per loop (mean ± std. dev. of 1 run, 1 loop each)\n",
      "max_depth...\n",
      "22 s ± 0 ns per loop (mean ± std. dev. of 1 run, 1 loop each)\n",
      "learning_rate...\n",
      "21.4 s ± 0 ns per loop (mean ± std. dev. of 1 run, 1 loop each)\n",
      "Лучшие параметры: {'n_estimators': 200, 'max_depth': 6, 'learning_rate': 0.1}\n"
     ]
    }
   ],
   "source": [
    "## 2 ##\n",
    "\n",
    "best_params = get_best_params(XGBRegressor, param_grid, dataset='B', n_jobs=4)\n",
    "print('Лучшие параметры:', best_params) # при n_estimators > 3000 качество не сильно улучшается, но сильно растёт время обучения"
   ]
  },
  {
   "cell_type": "code",
   "execution_count": 20,
   "metadata": {},
   "outputs": [
    {
     "name": "stdout",
     "output_type": "stream",
     "text": [
      "1.32 s ± 0 ns per loop (mean ± std. dev. of 1 run, 1 loop each)\n"
     ]
    }
   ],
   "source": [
    "xgb_B_best = XGBRegressor(**best_params)\n",
    "\n",
    "t_B_best = %timeit -n1 -r1 -o xgb_B_best.fit(datasets['B']['X_train'], datasets['B']['y_train'])\n",
    "t_B_best = t_B_best.average\n",
    "\n",
    "y_pred_xgb_B_best = xgb_B_best.predict(datasets['B']['X_test'])"
   ]
  },
  {
   "cell_type": "code",
   "execution_count": 21,
   "metadata": {},
   "outputs": [],
   "source": [
    "## 3 ##\n",
    "mae_B      = get_mae(xgb_B, 'B')\n",
    "mae_C      = get_mae(xgb_C, 'C')\n",
    "mae_B_best = get_mae(xgb_B_best, 'B')"
   ]
  },
  {
   "cell_type": "code",
   "execution_count": 22,
   "metadata": {
    "scrolled": true
   },
   "outputs": [
    {
     "data": {
      "text/html": [
       "<div>\n",
       "<style scoped>\n",
       "    .dataframe tbody tr th:only-of-type {\n",
       "        vertical-align: middle;\n",
       "    }\n",
       "\n",
       "    .dataframe tbody tr th {\n",
       "        vertical-align: top;\n",
       "    }\n",
       "\n",
       "    .dataframe thead th {\n",
       "        text-align: right;\n",
       "    }\n",
       "</style>\n",
       "<table border=\"1\" class=\"dataframe\">\n",
       "  <thead>\n",
       "    <tr style=\"text-align: right;\">\n",
       "      <th></th>\n",
       "      <th>Dataset</th>\n",
       "      <th>Parameters</th>\n",
       "      <th>Time</th>\n",
       "      <th>MAE</th>\n",
       "    </tr>\n",
       "  </thead>\n",
       "  <tbody>\n",
       "    <tr>\n",
       "      <th>0</th>\n",
       "      <td>B</td>\n",
       "      <td>{'n_estimators': 1000, 'max_depth': 5, 'learni...</td>\n",
       "      <td>5.273714</td>\n",
       "      <td>(92312.89114247818, 123194.88893186334)</td>\n",
       "    </tr>\n",
       "    <tr>\n",
       "      <th>1</th>\n",
       "      <td>C</td>\n",
       "      <td>{'n_estimators': 1000, 'max_depth': 5, 'learni...</td>\n",
       "      <td>144.529247</td>\n",
       "      <td>(10813.481830044797, 22648.771496434798)</td>\n",
       "    </tr>\n",
       "    <tr>\n",
       "      <th>2</th>\n",
       "      <td>B</td>\n",
       "      <td>{'n_estimators': 200, 'max_depth': 6, 'learnin...</td>\n",
       "      <td>1.317346</td>\n",
       "      <td>(97756.03568465027, 122466.72460594846)</td>\n",
       "    </tr>\n",
       "  </tbody>\n",
       "</table>\n",
       "</div>"
      ],
      "text/plain": [
       "  Dataset                                         Parameters        Time  \\\n",
       "0       B  {'n_estimators': 1000, 'max_depth': 5, 'learni...    5.273714   \n",
       "1       C  {'n_estimators': 1000, 'max_depth': 5, 'learni...  144.529247   \n",
       "2       B  {'n_estimators': 200, 'max_depth': 6, 'learnin...    1.317346   \n",
       "\n",
       "                                        MAE  \n",
       "0   (92312.89114247818, 123194.88893186334)  \n",
       "1  (10813.481830044797, 22648.771496434798)  \n",
       "2   (97756.03568465027, 122466.72460594846)  "
      ]
     },
     "execution_count": 22,
     "metadata": {},
     "output_type": "execute_result"
    }
   ],
   "source": [
    "## 4 ##\n",
    "df_xgb.loc[0] = ['B', test_parameters, t_B, mae_B]\n",
    "df_xgb.loc[1] = ['C', test_parameters, t_C, mae_C]\n",
    "df_xgb.loc[2] = ['B', best_params,     t_B_best, mae_B_best]\n",
    "df_xgb"
   ]
  },
  {
   "cell_type": "code",
   "execution_count": 23,
   "metadata": {},
   "outputs": [
    {
     "data": {
      "text/html": [
       "<div>\n",
       "<style scoped>\n",
       "    .dataframe tbody tr th:only-of-type {\n",
       "        vertical-align: middle;\n",
       "    }\n",
       "\n",
       "    .dataframe tbody tr th {\n",
       "        vertical-align: top;\n",
       "    }\n",
       "\n",
       "    .dataframe thead th {\n",
       "        text-align: right;\n",
       "    }\n",
       "</style>\n",
       "<table border=\"1\" class=\"dataframe\">\n",
       "  <thead>\n",
       "    <tr style=\"text-align: right;\">\n",
       "      <th></th>\n",
       "      <th>Dataset</th>\n",
       "      <th>Parameters</th>\n",
       "      <th>Time</th>\n",
       "      <th>MAE</th>\n",
       "    </tr>\n",
       "  </thead>\n",
       "  <tbody>\n",
       "    <tr>\n",
       "      <th>0</th>\n",
       "      <td>B</td>\n",
       "      <td>{'n_estimators': 1000, 'max_depth': 5, 'learni...</td>\n",
       "      <td>13.243317</td>\n",
       "      <td>(91885.18887320267, 123143.90719343587)</td>\n",
       "    </tr>\n",
       "    <tr>\n",
       "      <th>1</th>\n",
       "      <td>C</td>\n",
       "      <td>{'n_estimators': 1000, 'max_depth': 5, 'learni...</td>\n",
       "      <td>141.177384</td>\n",
       "      <td>(8830.929800439195, 21803.39748413522)</td>\n",
       "    </tr>\n",
       "    <tr>\n",
       "      <th>2</th>\n",
       "      <td>B</td>\n",
       "      <td>{'n_estimators': 800, 'max_depth': 7, 'learnin...</td>\n",
       "      <td>16.243462</td>\n",
       "      <td>(91493.68599242205, 123615.4063302318)</td>\n",
       "    </tr>\n",
       "  </tbody>\n",
       "</table>\n",
       "</div>"
      ],
      "text/plain": [
       "  Dataset                                         Parameters        Time  \\\n",
       "0       B  {'n_estimators': 1000, 'max_depth': 5, 'learni...   13.243317   \n",
       "1       C  {'n_estimators': 1000, 'max_depth': 5, 'learni...  141.177384   \n",
       "2       B  {'n_estimators': 800, 'max_depth': 7, 'learnin...   16.243462   \n",
       "\n",
       "                                       MAE  \n",
       "0  (91885.18887320267, 123143.90719343587)  \n",
       "1   (8830.929800439195, 21803.39748413522)  \n",
       "2   (91493.68599242205, 123615.4063302318)  "
      ]
     },
     "execution_count": 23,
     "metadata": {},
     "output_type": "execute_result"
    }
   ],
   "source": [
    "## 5 ##\n",
    "\n",
    "df_skl"
   ]
  },
  {
   "cell_type": "markdown",
   "metadata": {},
   "source": [
    "**Ваши выводы:**\n",
    "1. Категориальные признаки снова улучшили качество, как и поиск оптимальных параметров;\n",
    "2. На датасете с категориальными признаками моделька учится в 60 раз дольше. Модель с оптимальными параметрами учится в 10 раз дольше базовой, но зато заметно увеличивается точность;\n",
    "3. XGBoost учится значительно быстрее, но качество предсказаний чуть хуже."
   ]
  },
  {
   "cell_type": "markdown",
   "metadata": {
    "pycharm": {
     "name": "#%% md\n"
    }
   },
   "source": [
    "Таким вот несложным образом нам удалось воспользоваться еще одной библиотекой. Давайте перейдем к третьей библиотеке, которую мы сегодня изучим, и называется она lightgbm.\n",
    "\n",
    "## Градиентный бустинг в lightgbm\n",
    "\n",
    "Про Lightgbm легенды гласят, что она очень быстрая и легкая: что самый большой датасет она без проблем переварит за относительно небольшое время. А еще её разрабатывали не хухры кто, а сами мелкомягкие, так что попробовать её определённо стоит. На этот раз у нас вновь две новости, две хороших и две плохих. Первая хорошая — lightgbm тоже работает с GridSearchCV. Вторая хорошая — lightgbm умеет из коробки работать с категориальными признаками! Плохая — делает она это немного нетривиально (не зря я просил вас запомнить категориальные переменные!). Вторая плохая — да, нам придётся этим пользоваться.\n",
    "\n",
    "Внимание! LightGBM может писать сотню радостных сообщений о том, что он увидел ваши categorical_feature и использует их. При желании можете заглушать эти оповещения, ибо в случае перебора параметров их становится слишком много. (заклинание для заглушения: `warnings.filterwarnings(\"ignore\")`)\n",
    "\n",
    "### Задание 4 (кросс-проверка, 3 балла):\n",
    "**Данные**: датасет со стоимостью поддержанных автомобилей  \n",
    "**Метрика**: MAE  \n",
    "**Цели**: В данном задании следует выполнить следующие пункты:  \n",
    "1. В случае датасета, сохраненном в numpy, lightgbm требует, чтобы категории были закодированы целыми числами от 0 до числа признаков(e.g. ['a', 'b', 'a'] -> [0, 1, 0]). Сделайте это для датасета A. Если вы используете pandas, то для датасета A достаточно установить соответствующие столбцы типа \"категория\", тогда categorical_feature='auto' сам всё подхватит.\n",
    "2. Обучить lightgbm.LGBMRegressor на датасетах A, B и C, используя параметры n_estimators=1000, max_depth=5, learning_rate=0.1. В случае датасета A, передайте в функцию fit индексы/имена категориальных признаков. Замерьте время обучения, получите предсказания данных моделей на тестовом множестве.\n",
    "3. Обучить lightgbm.LGBMRegressor на датасетах A, B и C, используя кросс-валидацию на тренировочном множестве и подбирая значения для параметров n_estimators, learning_rate и max_depth (для простоты можете воспользоваться GridSearchCV). Замерьте время, потраченное на поиск оптимальных параметров(вновь не советую использовать n_jobs). Замерьте время перебора, получите предсказания лучшей модели (с лучшими параметрами) на тестовом множестве.\n",
    "4. Посчитать MAE для полученных предсказаний на тренировочном и тестовом множествах (можно воспользоваться sklearn.metrics.mean_absolute_error). Сделайте выводы и полезности использования категориальных переменных и поиска оптимальных параметров.\n",
    "5. Вывести результаты и время в таблице DataFrame."
   ]
  },
  {
   "cell_type": "code",
   "execution_count": 24,
   "metadata": {
    "pycharm": {
     "name": "#%%\n"
    }
   },
   "outputs": [],
   "source": [
    "import warnings\n",
    "warnings.filterwarnings(\"ignore\")\n",
    "\n",
    "df_lightgbm = pd.DataFrame(columns=['Dataset', 'Parameters', 'Time', 'MAE'])"
   ]
  },
  {
   "cell_type": "code",
   "execution_count": 25,
   "metadata": {},
   "outputs": [],
   "source": [
    "## 2 ##\n",
    "lightgbm_A = LGBMRegressor(**test_parameters)\n",
    "lightgbm_B = LGBMRegressor(**test_parameters)\n",
    "lightgbm_C = LGBMRegressor(**test_parameters)\n",
    "\n",
    "t_A = %timeit -n1 -r1 -o -q lightgbm_A.fit(datasets['A']['X_train'], datasets['A']['y_train'])\n",
    "t_B = %timeit -n1 -r1 -o -q lightgbm_B.fit(datasets['B']['X_train'], datasets['B']['y_train'])\n",
    "t_C = %timeit -n1 -r1 -o -q lightgbm_C.fit(datasets['C']['X_train'], datasets['C']['y_train'])\n",
    "t_A = t_A.average\n",
    "t_B = t_B.average\n",
    "t_C = t_C.average\n",
    "\n",
    "y_pred_lightgbm_A = lightgbm_A.predict(datasets['A']['X_test'])\n",
    "y_pred_lightgbm_B = lightgbm_B.predict(datasets['B']['X_test'])\n",
    "y_pred_lightgbm_C = lightgbm_C.predict(datasets['C']['X_test'])"
   ]
  },
  {
   "cell_type": "code",
   "execution_count": 26,
   "metadata": {},
   "outputs": [
    {
     "name": "stdout",
     "output_type": "stream",
     "text": [
      "n_estimators...\n",
      "2min 5s ± 0 ns per loop (mean ± std. dev. of 1 run, 1 loop each)\n",
      "max_depth...\n",
      "5.56 s ± 0 ns per loop (mean ± std. dev. of 1 run, 1 loop each)\n",
      "learning_rate...\n",
      "9.87 s ± 0 ns per loop (mean ± std. dev. of 1 run, 1 loop each)\n"
     ]
    }
   ],
   "source": [
    "## 3 ##\n",
    "\n",
    "best_params_A = get_best_params(LGBMRegressor, param_grid, 'A')"
   ]
  },
  {
   "cell_type": "code",
   "execution_count": 27,
   "metadata": {
    "scrolled": true
   },
   "outputs": [
    {
     "name": "stdout",
     "output_type": "stream",
     "text": [
      "n_estimators...\n",
      "1min 50s ± 0 ns per loop (mean ± std. dev. of 1 run, 1 loop each)\n",
      "max_depth...\n",
      "4.34 s ± 0 ns per loop (mean ± std. dev. of 1 run, 1 loop each)\n",
      "learning_rate...\n",
      "6.88 s ± 0 ns per loop (mean ± std. dev. of 1 run, 1 loop each)\n"
     ]
    }
   ],
   "source": [
    "best_params_B = get_best_params(LGBMRegressor, param_grid, 'B')"
   ]
  },
  {
   "cell_type": "code",
   "execution_count": 28,
   "metadata": {},
   "outputs": [
    {
     "name": "stdout",
     "output_type": "stream",
     "text": [
      "n_estimators...\n",
      "2min 55s ± 0 ns per loop (mean ± std. dev. of 1 run, 1 loop each)\n",
      "max_depth...\n",
      "15.3 s ± 0 ns per loop (mean ± std. dev. of 1 run, 1 loop each)\n",
      "learning_rate...\n",
      "32.6 s ± 0 ns per loop (mean ± std. dev. of 1 run, 1 loop each)\n"
     ]
    }
   ],
   "source": [
    "best_params_C = get_best_params(LGBMRegressor, param_grid, 'C')"
   ]
  },
  {
   "cell_type": "code",
   "execution_count": 29,
   "metadata": {},
   "outputs": [
    {
     "name": "stdout",
     "output_type": "stream",
     "text": [
      "931 ms ± 0 ns per loop (mean ± std. dev. of 1 run, 1 loop each)\n",
      "995 ms ± 0 ns per loop (mean ± std. dev. of 1 run, 1 loop each)\n",
      "4.03 s ± 0 ns per loop (mean ± std. dev. of 1 run, 1 loop each)\n"
     ]
    }
   ],
   "source": [
    "lightgbm_A_best = LGBMRegressor(**best_params_A)\n",
    "lightgbm_B_best = LGBMRegressor(**best_params_B)\n",
    "lightgbm_C_best = LGBMRegressor(**best_params_C)\n",
    "\n",
    "t_A_best = %timeit -n1 -r1 -o lightgbm_A_best.fit(datasets['A']['X_train'], datasets['A']['y_train'])\n",
    "t_B_best = %timeit -n1 -r1 -o lightgbm_B_best.fit(datasets['B']['X_train'], datasets['B']['y_train'])\n",
    "t_C_best = %timeit -n1 -r1 -o lightgbm_C_best.fit(datasets['C']['X_train'], datasets['C']['y_train'])\n",
    "\n",
    "t_A_best = t_A_best.average\n",
    "t_B_best = t_B_best.average\n",
    "t_C_best = t_C_best.average"
   ]
  },
  {
   "cell_type": "code",
   "execution_count": 30,
   "metadata": {},
   "outputs": [],
   "source": [
    "y_pred_lightgbm_A_best = lightgbm_A_best.predict(datasets['A']['X_test'])\n",
    "y_pred_lightgbm_B_best = lightgbm_B_best.predict(datasets['B']['X_test'])\n",
    "y_pred_lightgbm_C_best = lightgbm_C_best.predict(datasets['C']['X_test'])"
   ]
  },
  {
   "cell_type": "code",
   "execution_count": 31,
   "metadata": {},
   "outputs": [],
   "source": [
    "## 4 ##\n",
    "mae_A      = get_mae(lightgbm_A, 'A')\n",
    "mae_B      = get_mae(lightgbm_B, 'B')\n",
    "mae_C      = get_mae(lightgbm_C, 'C')\n",
    "mae_A_best = get_mae(lightgbm_A_best, 'A')\n",
    "mae_B_best = get_mae(lightgbm_B_best, 'B')\n",
    "mae_C_best = get_mae(lightgbm_C_best, 'C')"
   ]
  },
  {
   "cell_type": "code",
   "execution_count": 32,
   "metadata": {
    "scrolled": false
   },
   "outputs": [
    {
     "data": {
      "text/html": [
       "<div>\n",
       "<style scoped>\n",
       "    .dataframe tbody tr th:only-of-type {\n",
       "        vertical-align: middle;\n",
       "    }\n",
       "\n",
       "    .dataframe tbody tr th {\n",
       "        vertical-align: top;\n",
       "    }\n",
       "\n",
       "    .dataframe thead th {\n",
       "        text-align: right;\n",
       "    }\n",
       "</style>\n",
       "<table border=\"1\" class=\"dataframe\">\n",
       "  <thead>\n",
       "    <tr style=\"text-align: right;\">\n",
       "      <th></th>\n",
       "      <th>Dataset</th>\n",
       "      <th>Parameters</th>\n",
       "      <th>Time</th>\n",
       "      <th>MAE</th>\n",
       "    </tr>\n",
       "  </thead>\n",
       "  <tbody>\n",
       "    <tr>\n",
       "      <th>0</th>\n",
       "      <td>A</td>\n",
       "      <td>{'n_estimators': 1000, 'max_depth': 5, 'learni...</td>\n",
       "      <td>1.048363</td>\n",
       "      <td>(16817.028911335972, 25444.522235403132)</td>\n",
       "    </tr>\n",
       "    <tr>\n",
       "      <th>1</th>\n",
       "      <td>B</td>\n",
       "      <td>{'n_estimators': 1000, 'max_depth': 5, 'learni...</td>\n",
       "      <td>0.634107</td>\n",
       "      <td>(97464.81521657514, 122524.86849167927)</td>\n",
       "    </tr>\n",
       "    <tr>\n",
       "      <th>2</th>\n",
       "      <td>C</td>\n",
       "      <td>{'n_estimators': 1000, 'max_depth': 5, 'learni...</td>\n",
       "      <td>1.136682</td>\n",
       "      <td>(21020.38395510106, 31347.700217187903)</td>\n",
       "    </tr>\n",
       "    <tr>\n",
       "      <th>3</th>\n",
       "      <td>A</td>\n",
       "      <td>{'n_estimators': 400, 'max_depth': 10, 'learni...</td>\n",
       "      <td>0.931003</td>\n",
       "      <td>(14919.25676455272, 20944.233349827966)</td>\n",
       "    </tr>\n",
       "    <tr>\n",
       "      <th>4</th>\n",
       "      <td>B</td>\n",
       "      <td>{'n_estimators': 800, 'max_depth': 8, 'learnin...</td>\n",
       "      <td>0.995027</td>\n",
       "      <td>(95423.99143506483, 122732.47504925095)</td>\n",
       "    </tr>\n",
       "    <tr>\n",
       "      <th>5</th>\n",
       "      <td>C</td>\n",
       "      <td>{'n_estimators': 2000, 'max_depth': 10, 'learn...</td>\n",
       "      <td>4.031429</td>\n",
       "      <td>(6638.648851666091, 24839.445818225973)</td>\n",
       "    </tr>\n",
       "  </tbody>\n",
       "</table>\n",
       "</div>"
      ],
      "text/plain": [
       "  Dataset                                         Parameters      Time  \\\n",
       "0       A  {'n_estimators': 1000, 'max_depth': 5, 'learni...  1.048363   \n",
       "1       B  {'n_estimators': 1000, 'max_depth': 5, 'learni...  0.634107   \n",
       "2       C  {'n_estimators': 1000, 'max_depth': 5, 'learni...  1.136682   \n",
       "3       A  {'n_estimators': 400, 'max_depth': 10, 'learni...  0.931003   \n",
       "4       B  {'n_estimators': 800, 'max_depth': 8, 'learnin...  0.995027   \n",
       "5       C  {'n_estimators': 2000, 'max_depth': 10, 'learn...  4.031429   \n",
       "\n",
       "                                        MAE  \n",
       "0  (16817.028911335972, 25444.522235403132)  \n",
       "1   (97464.81521657514, 122524.86849167927)  \n",
       "2   (21020.38395510106, 31347.700217187903)  \n",
       "3   (14919.25676455272, 20944.233349827966)  \n",
       "4   (95423.99143506483, 122732.47504925095)  \n",
       "5   (6638.648851666091, 24839.445818225973)  "
      ]
     },
     "execution_count": 32,
     "metadata": {},
     "output_type": "execute_result"
    }
   ],
   "source": [
    "## 5 ##\n",
    "df_lightgbm.loc[0] = ['A', test_parameters, t_A,      mae_A]\n",
    "df_lightgbm.loc[1] = ['B', test_parameters, t_B,      mae_B]\n",
    "df_lightgbm.loc[2] = ['C', test_parameters, t_C,      mae_C]\n",
    "df_lightgbm.loc[3] = ['A', best_params_A,   t_A_best, mae_A_best]\n",
    "df_lightgbm.loc[4] = ['B', best_params_B,   t_B_best, mae_B_best]\n",
    "df_lightgbm.loc[5] = ['C', best_params_C,   t_C_best, mae_C_best]\n",
    "df_lightgbm"
   ]
  },
  {
   "cell_type": "markdown",
   "metadata": {},
   "source": [
    "**Выводы:**\n",
    "1. Использование категориальных переменных улучшает качество;\n",
    "2. Поиск оптимальных параметров значительно улучшает качество."
   ]
  },
  {
   "cell_type": "markdown",
   "metadata": {
    "pycharm": {
     "name": "#%% md\n"
    }
   },
   "source": [
    "Как вы видите, иногда можно не возиться с OHE, а позволить библиотекам самим это сделать (хотя иногда при этом приходится повозиться с самими данными, чтобы библиотека съела данные).\n",
    "\n",
    "Итак, мы с вами почти стали мастерами градиентного бустинга. Переходим к последней звезде нашего хит-парада.\n",
    "\n"
   ]
  },
  {
   "cell_type": "markdown",
   "metadata": {
    "pycharm": {
     "name": "#%% md\n"
    }
   },
   "source": [
    "## Градиентный бустинг в catboost\n",
    "\n",
    "Библиотека, созданная в тёмных подвалах яндекса. По легендам эта библиотека умеет работать с категориальными данными, быстрая, эффективная, легко настраивается, из коробки понимает текстовые признаки в задачах классификации и спасла Брюса Уиллиса. Давайте проверим.\n",
    "Вас, наверное, не удивить тем, что эта библиотека работает с GridSearchCV, но им мы пользоваться не будем. В catboost существует своя реализация перебора параметров, и мы попробуем им воспользоваться (ура, разнообразие!). В качестве регрессора нас интересует catboost.CatBoostRegressor.\n",
    "\n",
    "Внимание! Эта библиотека еще более болтлива, чем lightgbm, но это (почти) полностью лечится с помощью verbose. К сожалению, отключением warnings её не сделать молчаливее. А еще эта библиотека может неожиданно создать вам парочку новых папок.\n",
    "\n",
    "### Задание 5 (кросс-проверка, 3 балла):\n",
    "**Данные**: датасет со стоимостью поддержанных автомобилей  \n",
    "**Метрика**: MAE  \n",
    "**Цели**: В данном задании следует выполнить следующие пункты:  \n",
    "1. Обучить catboost.CatBoostRegressor на датасетах A, B и C, используя параметры используя параметры n_estimators=1000, max_depth=5, learning_rate=0.1. В случае датасета A, передайте на вход методу fit/конструктору параметр cat_features, содержащий имена/индексы категориальных переменных. В данном случае переводить категории в целые числа, как мы делали для lightgbm, не нужно. Замерьте время обучения, получите предсказания данных моделей на тестовом множестве.\n",
    "2. Обучить catboost.CatBoostRegressor на датасетах A, B и C, используя метод grid_search (является методом экземпляра класса CatBoostRegressor). Замерьте время, потраченное на поиск оптимальных параметров. Замерьте время перебора, получите предсказания лучшей модели (с лучшими параметрами) на тестовом множестве.\n",
    "3. Посчитать MAE для полученных предсказаний на тренировочном и тестовом множествах (можно воспользоваться sklearn.metrics.mean_absolute_error).\n",
    "4. Вывести результаты и время в таблице DataFrame.\n",
    "5. Сделайте выводы и полезности использования категориальных переменных и поиска оптимальных параметров.\n"
   ]
  },
  {
   "cell_type": "code",
   "execution_count": 33,
   "metadata": {
    "pycharm": {
     "name": "#%%\n"
    }
   },
   "outputs": [],
   "source": [
    "df_catboost = pd.DataFrame(columns=['Dataset', 'Parameters', 'Time', 'MAE'])"
   ]
  },
  {
   "cell_type": "code",
   "execution_count": 34,
   "metadata": {},
   "outputs": [],
   "source": [
    "## 1 ##\n",
    "catboost_A = CatBoostRegressor(**test_parameters)\n",
    "catboost_B = CatBoostRegressor(**test_parameters)\n",
    "catboost_C = CatBoostRegressor(**test_parameters)\n",
    "\n",
    "t_A = %timeit -n1 -r1 -o -q catboost_A.fit(datasets['A']['X_train'], datasets['A']['y_train'], cat_features=categorical_features, verbose=False)\n",
    "t_B = %timeit -n1 -r1 -o -q catboost_B.fit(datasets['B']['X_train'], datasets['B']['y_train'], verbose=False)\n",
    "t_C = %timeit -n1 -r1 -o -q catboost_C.fit(datasets['C']['X_train'], datasets['C']['y_train'], verbose=False)\n",
    "t_A = t_A.average\n",
    "t_B = t_B.average\n",
    "t_C = t_C.average\n",
    "\n",
    "y_pred_catboost_A = catboost_A.predict(datasets['A']['X_test'])\n",
    "y_pred_catboost_B = catboost_B.predict(datasets['B']['X_test'])\n",
    "y_pred_catboost_C = catboost_C.predict(datasets['C']['X_test'])"
   ]
  },
  {
   "cell_type": "code",
   "execution_count": 35,
   "metadata": {
    "scrolled": true
   },
   "outputs": [],
   "source": [
    "## 2 ##"
   ]
  },
  {
   "cell_type": "code",
   "execution_count": 36,
   "metadata": {},
   "outputs": [
    {
     "name": "stdout",
     "output_type": "stream",
     "text": [
      "n_estimators...\n",
      "8min 41s ± 0 ns per loop (mean ± std. dev. of 1 run, 1 loop each)\n",
      "max_depth...\n",
      "10min 20s ± 0 ns per loop (mean ± std. dev. of 1 run, 1 loop each)\n",
      "learning_rate...\n",
      "5min 20s ± 0 ns per loop (mean ± std. dev. of 1 run, 1 loop each)\n"
     ]
    }
   ],
   "source": [
    "best_params_A = get_best_params(CatBoostRegressor, param_grid, 'A', cat_features=categorical_features, verbose=False)"
   ]
  },
  {
   "cell_type": "code",
   "execution_count": 37,
   "metadata": {
    "scrolled": true
   },
   "outputs": [
    {
     "name": "stdout",
     "output_type": "stream",
     "text": [
      "n_estimators...\n",
      "3min 15s ± 0 ns per loop (mean ± std. dev. of 1 run, 1 loop each)\n",
      "max_depth...\n",
      "4min 33s ± 0 ns per loop (mean ± std. dev. of 1 run, 1 loop each)\n",
      "learning_rate...\n",
      "2min 3s ± 0 ns per loop (mean ± std. dev. of 1 run, 1 loop each)\n"
     ]
    }
   ],
   "source": [
    "best_params_B = get_best_params(CatBoostRegressor, param_grid, 'B', verbose=False)"
   ]
  },
  {
   "cell_type": "code",
   "execution_count": 38,
   "metadata": {},
   "outputs": [
    {
     "name": "stdout",
     "output_type": "stream",
     "text": [
      "n_estimators...\n",
      "9min 19s ± 0 ns per loop (mean ± std. dev. of 1 run, 1 loop each)\n",
      "max_depth...\n",
      "9min 40s ± 0 ns per loop (mean ± std. dev. of 1 run, 1 loop each)\n",
      "learning_rate...\n",
      "3min 56s ± 0 ns per loop (mean ± std. dev. of 1 run, 1 loop each)\n"
     ]
    }
   ],
   "source": [
    "best_params_C = get_best_params(CatBoostRegressor, param_grid, 'C', verbose=False)"
   ]
  },
  {
   "cell_type": "code",
   "execution_count": 39,
   "metadata": {},
   "outputs": [
    {
     "name": "stdout",
     "output_type": "stream",
     "text": [
      "23.7 s ± 0 ns per loop (mean ± std. dev. of 1 run, 1 loop each)\n",
      "2.28 s ± 0 ns per loop (mean ± std. dev. of 1 run, 1 loop each)\n",
      "1min 30s ± 0 ns per loop (mean ± std. dev. of 1 run, 1 loop each)\n"
     ]
    }
   ],
   "source": [
    "catboost_A_best = CatBoostRegressor(cat_features=categorical_features, verbose=False, **best_params_A)\n",
    "catboost_B_best = CatBoostRegressor(verbose=False, **best_params_B)\n",
    "catboost_C_best = CatBoostRegressor(verbose=False, **best_params_C)\n",
    "\n",
    "t_A_best = %timeit -n1 -r1 -o catboost_A_best.fit(datasets['A']['X_train'], datasets['A']['y_train'])\n",
    "t_B_best = %timeit -n1 -r1 -o catboost_B_best.fit(datasets['B']['X_train'], datasets['B']['y_train'])\n",
    "t_C_best = %timeit -n1 -r1 -o catboost_C_best.fit(datasets['C']['X_train'], datasets['C']['y_train'])\n",
    "\n",
    "t_A_best = t_A_best.average\n",
    "t_B_best = t_B_best.average\n",
    "t_C_best = t_C_best.average"
   ]
  },
  {
   "cell_type": "code",
   "execution_count": 40,
   "metadata": {},
   "outputs": [],
   "source": [
    "y_pred_catboost_A_best = catboost_A_best.predict(datasets['A']['X_test'])\n",
    "y_pred_catboost_B_best = catboost_B_best.predict(datasets['B']['X_test'])\n",
    "y_pred_catboost_C_best = catboost_C_best.predict(datasets['C']['X_test'])"
   ]
  },
  {
   "cell_type": "code",
   "execution_count": 41,
   "metadata": {},
   "outputs": [],
   "source": [
    "## 3 ##\n",
    "mae_A      = get_mae(catboost_A, 'A')\n",
    "mae_B      = get_mae(catboost_B, 'B')\n",
    "mae_C      = get_mae(catboost_C, 'C')\n",
    "mae_A_best = get_mae(catboost_A_best, 'A')\n",
    "mae_B_best = get_mae(catboost_B_best, 'B')\n",
    "mae_C_best = get_mae(catboost_C_best, 'C')"
   ]
  },
  {
   "cell_type": "code",
   "execution_count": 42,
   "metadata": {},
   "outputs": [
    {
     "data": {
      "text/html": [
       "<div>\n",
       "<style scoped>\n",
       "    .dataframe tbody tr th:only-of-type {\n",
       "        vertical-align: middle;\n",
       "    }\n",
       "\n",
       "    .dataframe tbody tr th {\n",
       "        vertical-align: top;\n",
       "    }\n",
       "\n",
       "    .dataframe thead th {\n",
       "        text-align: right;\n",
       "    }\n",
       "</style>\n",
       "<table border=\"1\" class=\"dataframe\">\n",
       "  <thead>\n",
       "    <tr style=\"text-align: right;\">\n",
       "      <th></th>\n",
       "      <th>Dataset</th>\n",
       "      <th>Parameters</th>\n",
       "      <th>Time</th>\n",
       "      <th>MAE</th>\n",
       "    </tr>\n",
       "  </thead>\n",
       "  <tbody>\n",
       "    <tr>\n",
       "      <th>0</th>\n",
       "      <td>A</td>\n",
       "      <td>{'n_estimators': 1000, 'max_depth': 5, 'learni...</td>\n",
       "      <td>8.011642</td>\n",
       "      <td>(12094.086174849672, 15547.207631554991)</td>\n",
       "    </tr>\n",
       "    <tr>\n",
       "      <th>1</th>\n",
       "      <td>B</td>\n",
       "      <td>{'n_estimators': 1000, 'max_depth': 5, 'learni...</td>\n",
       "      <td>3.134616</td>\n",
       "      <td>(99789.27603550283, 121533.35194869402)</td>\n",
       "    </tr>\n",
       "    <tr>\n",
       "      <th>2</th>\n",
       "      <td>C</td>\n",
       "      <td>{'n_estimators': 1000, 'max_depth': 5, 'learni...</td>\n",
       "      <td>8.442244</td>\n",
       "      <td>(15792.779830573405, 23959.556634348628)</td>\n",
       "    </tr>\n",
       "    <tr>\n",
       "      <th>3</th>\n",
       "      <td>A</td>\n",
       "      <td>{'n_estimators': 1800, 'max_depth': 8, 'learni...</td>\n",
       "      <td>23.667780</td>\n",
       "      <td>(9166.698124766786, 13958.05013014902)</td>\n",
       "    </tr>\n",
       "    <tr>\n",
       "      <th>4</th>\n",
       "      <td>B</td>\n",
       "      <td>{'n_estimators': 1400, 'max_depth': 5, 'learni...</td>\n",
       "      <td>2.280658</td>\n",
       "      <td>(98103.12625301731, 121769.16567495471)</td>\n",
       "    </tr>\n",
       "    <tr>\n",
       "      <th>5</th>\n",
       "      <td>C</td>\n",
       "      <td>{'n_estimators': 2000, 'max_depth': 10, 'learn...</td>\n",
       "      <td>90.118743</td>\n",
       "      <td>(4825.263970775299, 16955.32969230425)</td>\n",
       "    </tr>\n",
       "  </tbody>\n",
       "</table>\n",
       "</div>"
      ],
      "text/plain": [
       "  Dataset                                         Parameters       Time  \\\n",
       "0       A  {'n_estimators': 1000, 'max_depth': 5, 'learni...   8.011642   \n",
       "1       B  {'n_estimators': 1000, 'max_depth': 5, 'learni...   3.134616   \n",
       "2       C  {'n_estimators': 1000, 'max_depth': 5, 'learni...   8.442244   \n",
       "3       A  {'n_estimators': 1800, 'max_depth': 8, 'learni...  23.667780   \n",
       "4       B  {'n_estimators': 1400, 'max_depth': 5, 'learni...   2.280658   \n",
       "5       C  {'n_estimators': 2000, 'max_depth': 10, 'learn...  90.118743   \n",
       "\n",
       "                                        MAE  \n",
       "0  (12094.086174849672, 15547.207631554991)  \n",
       "1   (99789.27603550283, 121533.35194869402)  \n",
       "2  (15792.779830573405, 23959.556634348628)  \n",
       "3    (9166.698124766786, 13958.05013014902)  \n",
       "4   (98103.12625301731, 121769.16567495471)  \n",
       "5    (4825.263970775299, 16955.32969230425)  "
      ]
     },
     "execution_count": 42,
     "metadata": {},
     "output_type": "execute_result"
    }
   ],
   "source": [
    "## 4 ##\n",
    "\n",
    "df_catboost.loc[0] = ['A', test_parameters, t_A,      mae_A]\n",
    "df_catboost.loc[1] = ['B', test_parameters, t_B,      mae_B]\n",
    "df_catboost.loc[2] = ['C', test_parameters, t_C,      mae_C]\n",
    "df_catboost.loc[3] = ['A', best_params_A,   t_A_best, mae_A_best]\n",
    "df_catboost.loc[4] = ['B', best_params_B,   t_B_best, mae_B_best]\n",
    "df_catboost.loc[5] = ['C', best_params_C,   t_C_best, mae_C_best]\n",
    "df_catboost"
   ]
  },
  {
   "cell_type": "markdown",
   "metadata": {},
   "source": [
    "**Ваши выводы:**\n",
    "1. Использование категориальных переменных ухудшает качество;\n",
    "2. Поиск оптимальных параметроы улучшает качество."
   ]
  },
  {
   "cell_type": "markdown",
   "metadata": {
    "pycharm": {
     "name": "#%% md\n"
    }
   },
   "source": [
    "И так, мы наконец познакомились со всеми библиотеками градиентного бустинга.\n",
    "\n",
    "## Обобщение результатов\n",
    "\n",
    "На текущем этапе у вас должно быть несколько датафреймов результатами по каждой библиотеке. Мы, конечно, сделали некоторые выводы, но пришло время собрать это в красивый отчет.\n",
    "\n",
    "### Задание 6 (кросс-проверка, 3 балла):\n",
    "**Данные**: датасет с ценами поддержанных автомобилей  \n",
    "**Цели**: В данном задании следует выполнить следующие пункты:  \n",
    "1. При помощи одного или нескольких графиков показать результаты различных библиотек: времени работы и качество результатов. Можете воспользоваться любым типом графиков: гистограммы, scatter и т.д. По этим графикам должно быть понятно какая библиотека и насколько быстрее, насколько различается их качество, сравнение оптимизированных и неоптимизированных параметров.\n",
    "2. По графикам сравните библиотеки, производительность и качество работы. Опишите ваши выводы ниже."
   ]
  },
  {
   "cell_type": "code",
   "execution_count": 43,
   "metadata": {
    "pycharm": {
     "name": "#%%\n"
    }
   },
   "outputs": [
    {
     "data": {
      "image/png": "[encoded data removed]",
      "text/plain": [
       "<Figure size 1440x576 with 2 Axes>"
      ]
     },
     "metadata": {
      "needs_background": "light"
     },
     "output_type": "display_data"
    }
   ],
   "source": [
    "bw = 0.2\n",
    "fig, ax = plt.subplots(1,2, figsize=(20,8))\n",
    "\n",
    "ax[0].bar(3-bw-bw/2, df_skl['Time'].iloc[1],      bw, color='orange')\n",
    "ax[0].bar(3-bw/2,    df_xgb['Time'].iloc[1],      bw, color='c')\n",
    "ax[0].bar(3+bw/2,    df_lightgbm['Time'].iloc[2], bw, color='r')\n",
    "ax[0].bar(3+bw+bw/2, df_catboost['Time'].iloc[2], bw, color='b')\n",
    "\n",
    "for i in range(2):\n",
    "    ax[i].set_title('Сравнение времени обучения', fontsize=20)\n",
    "    ax[i].bar(1-bw/2, df_lightgbm['Time'].iloc[0], bw, color='r', label='LightGBM')\n",
    "    ax[i].bar(1+bw/2, df_catboost['Time'].iloc[0], bw, color='b', label='CatBoost')\n",
    "\n",
    "    ax[i].bar(2-bw-bw/2, df_skl['Time'].iloc[0],      bw, color='orange', label='Sklearn')\n",
    "    ax[i].bar(2-bw/2,    df_xgb['Time'].iloc[0],      bw, color='c',      label='XGBoost')\n",
    "    ax[i].bar(2+bw/2,    df_lightgbm['Time'].iloc[1], bw, color='r')\n",
    "    ax[i].bar(2+bw+bw/2, df_catboost['Time'].iloc[1], bw, color='b')\n",
    "\n",
    "    ax[i].set_xlabel('Датасет')\n",
    "    ax[i].set_ylabel('Время (с.)')\n",
    "    ax[i].legend()\n",
    "    \n",
    "plt.setp(ax[0], xticks=range(1,4), xticklabels=['A', 'B', 'C'], yticks=range(0,150,20))\n",
    "plt.setp(ax[1], xticks=range(1,3), xticklabels=['A', 'B'], yticks=range(12))\n",
    "plt.show()"
   ]
  },
  {
   "cell_type": "code",
   "execution_count": 44,
   "metadata": {},
   "outputs": [
    {
     "data": {
      "image/png": "[encoded data removed]",
      "text/plain": [
       "<Figure size 720x360 with 1 Axes>"
      ]
     },
     "metadata": {
      "needs_background": "light"
     },
     "output_type": "display_data"
    }
   ],
   "source": [
    "bw = 0.2\n",
    "plt.figure(figsize=(10,5))\n",
    "\n",
    "plt.title('Сравнение MAE (лучших моделей)', fontsize=20)\n",
    "plt.bar(1-bw/2, df_lightgbm['MAE'].iloc[3][1], bw, color='r', label='LightGBM')\n",
    "plt.bar(1+bw/2, df_catboost['MAE'].iloc[3][1], bw, color='b', label='CatBoost')\n",
    "\n",
    "plt.bar(2-bw-bw/2, df_skl['MAE'].iloc[2][1],      bw, color='orange', label='Sklearn')\n",
    "plt.bar(2-bw/2,    df_xgb['MAE'].iloc[2][1],      bw, color='c',      label='XGBoost')\n",
    "plt.bar(2+bw/2,    df_lightgbm['MAE'].iloc[4][1], bw, color='r')\n",
    "plt.bar(2+bw+bw/2, df_catboost['MAE'].iloc[4][1], bw, color='b')\n",
    "\n",
    "plt.bar(3+bw/2,    df_lightgbm['MAE'].iloc[5][1], bw, color='r')\n",
    "plt.bar(3+bw+bw/2, df_catboost['MAE'].iloc[5][1], bw, color='b')\n",
    "\n",
    "plt.xlabel('Датасет')\n",
    "plt.ylabel('MAE')\n",
    "plt.legend()\n",
    "plt.xticks(range(1, 4), ['A','B','C'])\n",
    "\n",
    "plt.show()"
   ]
  },
  {
   "cell_type": "markdown",
   "metadata": {
    "pycharm": {
     "name": "#%% md\n"
    }
   },
   "source": [
    "**Ваши выводы:**\n",
    "1. Низкая производительность у XGBoost и Sklearn, высокая - у LigthGBM и CatBoost;\n",
    "2. По качеству все оказались почти одинаковыми."
   ]
  },
  {
   "cell_type": "markdown",
   "metadata": {
    "pycharm": {
     "name": "#%% md\n"
    }
   },
   "source": [
    "## Оптимизация параметров с hyperopt\n",
    "\n",
    "И так, мы с вами научились пользоваться библиотеками для градиентного бустинга. И я почти уверен, что знаю вашу самую \"любимую\" часть всех этих заданий: оптимизация параметров. Она достаточно долгая, нудная, да еще и над сетками перебора нужно думать. Значит сейчас, когда вы поняли всю тяжесть этого процесса, мы можем узнать как относительно быстро и безболезненно нащупать оптимальные параметры!\n"
   ]
  },
  {
   "cell_type": "markdown",
   "metadata": {
    "pycharm": {
     "name": "#%% md\n"
    }
   },
   "source": [
    "[Эмоции выполняющего в этот момент.](https://disk.yandex.ru/i/qwkvBEFrWYoV9A)\n"
   ]
  },
  {
   "cell_type": "markdown",
   "metadata": {
    "pycharm": {
     "name": "#%% md\n"
    }
   },
   "source": [
    "Нашего спасителя зовут HyperOpt. На первый взгляд hyperopt делает всё то же самое, что и grid search, а именно перебирает параметры. По факту же hyperopt превращает это в задачу оптимизации, используя некоторые эвристики для ускорения сходимости процесса. К тому же, он требует лишь информацию о границе интарвалов, а не сами сетки. В теории это должно помочь нам добиться лучших результатов за более короткое время. Давайте попробуем это сделать.\n",
    "\n",
    "Для данного эксперимента я рекомендую использовать lightgbm, поскольку она быстрее и с ней удобнее играться, но Вы можете воспользоваться любой библиотекой из представленных выше.\n",
    "\n",
    "### Задание 7 (кросс-проверка, 4 балла):\n",
    "**Данные**: датасет со стоимостью поддержанных автомобилей\n",
    "**Метрика**: MAE\n",
    "**Цели**: В данном задании следует выполнить следующие пункты:\n",
    "1. Взять любую библиотеку градиентного бустинга (можете взять самую быструю)\n",
    "2. Составить сетку перебора в hyperopt, включающую параметры n_estimators, max_depth и learning_rate в hyperopt. Вам могут понадобиться такие типы данных, как hp.choise, hp.qloguniform, hp.uniform и hp.quniform (можно также пользоваться np.arange). Также для округления значения типа float до целых чисел (4.0 -> 4) используйте `scope.int`.\n",
    "3. Реализуйте функцию, которая принимает на вход словарь параметров для регрессора, и при помощи cv оценивает его качество на датасете A (можно воспользоваться cross_val_score, а для ускорения поставить cv=3). Не забудьте о том, в каком виде lightgbm принимает категориальные признаки в numpy и что также надо передавать индексы категориальных признаков.\n",
    "4. Создайте объект trials=Trials(), который будет хранить информацию о процессе оптимизации.\n",
    "5. Используя функцию fmin, оптимизируйте Вашу функцию. Установите algo=tpe.suggest, trials=trials и max_evals, по крайней мере, 50. verbose=1 позволит видеть прогресс-бар по типу tqdm.\n",
    "6. Выведите получившиеся параметры. Нарисуйте график, показывающий значение loss в ходе оптимизации. Посчитайте качество на тесте при использовании лучших параметров (возвращаются после использования fmin). Сделайте выводы по результату."
   ]
  },
  {
   "cell_type": "code",
   "execution_count": 45,
   "metadata": {
    "pycharm": {
     "name": "#%%\n"
    }
   },
   "outputs": [
    {
     "name": "stdout",
     "output_type": "stream",
     "text": [
      "100%|███████████████████████████████████████████████████| 50/50 [03:36<00:00,  4.34s/trial, best loss: 30369.6988469666]\n"
     ]
    }
   ],
   "source": [
    "import warnings\n",
    "warnings.filterwarnings(\"ignore\")\n",
    "\n",
    "trials = Trials()\n",
    "\n",
    "def quality(params):\n",
    "    model = LGBMRegressor(**params)\n",
    "    score = cross_val_score(model, datasets['A']['X_train'], datasets['A']['y_train'], cv=3, scoring='neg_mean_absolute_error')\n",
    "    return -score.mean()\n",
    "\n",
    "grid = {\n",
    "    'n_estimators': scope.int(hp.uniform('n_estimators', 100, 3000)),\n",
    "    'max_depth': hp.choice('max_depth', np.arange(5,12)),\n",
    "    'learning_rate': hp.loguniform('learning_rate', low=-6*np.log(10), high=np.log(10))\n",
    "}\n",
    "\n",
    "best = fmin(fn=quality,\n",
    "            space=grid,\n",
    "            algo=tpe.suggest,\n",
    "            max_evals=50,\n",
    "            trials=trials,\n",
    "            verbose= 1)"
   ]
  },
  {
   "cell_type": "code",
   "execution_count": 46,
   "metadata": {},
   "outputs": [
    {
     "name": "stdout",
     "output_type": "stream",
     "text": [
      "Лучшие параметры:  {'learning_rate': 0.01578349725842202, 'max_depth': 6, 'n_estimators': 1631}\n"
     ]
    }
   ],
   "source": [
    "best['n_estimators'] = int(best['n_estimators'])\n",
    "print('Лучшие параметры: ', best)"
   ]
  },
  {
   "cell_type": "code",
   "execution_count": 47,
   "metadata": {
    "scrolled": false
   },
   "outputs": [
    {
     "data": {
      "image/png": "[encoded data removed]",
      "text/plain": [
       "<Figure size 1296x432 with 2 Axes>"
      ]
     },
     "metadata": {
      "needs_background": "light"
     },
     "output_type": "display_data"
    }
   ],
   "source": [
    "loss  = [d['loss'] for d in trials.results]\n",
    "iters = range(len(loss))\n",
    "\n",
    "fig, ax = plt.subplots(1,2, figsize=(18,6))\n",
    "ax[0].set_title('значение loss в ходе оптимизации')\n",
    "ax[1].set_title('значение loss в ходе оптимизации (после удаления выбросов)')\n",
    "for i in range(2):\n",
    "    ax[i].set_xlabel('Итерации')\n",
    "    ax[i].set_ylabel('loss')\n",
    "    ax[i].grid()\n",
    "ax[0].plot(loss)\n",
    "ax[1].plot([x for x in loss if x < 1e30])\n",
    "plt.show()"
   ]
  },
  {
   "cell_type": "code",
   "execution_count": 48,
   "metadata": {},
   "outputs": [
    {
     "name": "stdout",
     "output_type": "stream",
     "text": [
      "1.03 s ± 0 ns per loop (mean ± std. dev. of 1 run, 1 loop each)\n",
      "MAE на тесте лучшей модели: 22110.251448788007\n"
     ]
    }
   ],
   "source": [
    "best_model = LGBMRegressor(**best)\n",
    "%timeit -n1 -r1 best_model.fit(datasets['A']['X_train'], datasets['A']['y_train'])\n",
    "mae = get_mae(best_model, 'A')\n",
    "print('MAE на тесте лучшей модели:', mae[1])"
   ]
  },
  {
   "cell_type": "markdown",
   "metadata": {
    "pycharm": {
     "name": "#%% md\n"
    }
   },
   "source": [
    "**Ваши выводы:**\n",
    "1. Качество модели лучше, чем при переборе по сетке. Таким образом при переборе по сетке не произошло попадания в оптимум, а при переборе с помощью hyperopt -- произошло;\n",
    "2. Перебор с hyperopt осуществляется значительно быстрее."
   ]
  },
  {
   "cell_type": "markdown",
   "metadata": {},
   "source": [
    "## Предсказание зрительских симпатий\n",
    "\n",
    "Ну что, детишки, а теперь перейдём к действительно важным вопросам.\n",
    "\n",
    "**Внимание!** Следующее задание сдается в системе cv-gml.ru, задание `Град. бустинг (ML)` Для выполнения этого задания необходимо скачать датасет из задания. Здесь вы можете немного почитать про датасет и, при желании, поэкспериментировать. На cv-gml.ru загружайте уже готовый скрипт с подобранными параметрами для обучаемого регрессора. Релизовать код необходимо в шаблонном файле awards_prediction.py, который вы можете найти в проверяющей системе.\n",
    "\n",
    "В некотором царстве, некотором государстве была развита кинопромышленность. Новые фильмы в этом государстве показывают по интернету, а пользователи после просмотра могут дать фильму некоторую \"награду\". Наша цель - предсказать число наград для фильма.\n",
    "\n",
    "В нашем распоряжении имеются следующие данные:\n",
    "\n",
    "**awards** - количество наград, полученных фильмом от пользователей (целевое значение)  \n",
    "**potions** - количество магических зелий, потраченных на создание спец-эффектов  \n",
    "**genres** - жанры созданного фильма  \n",
    "**questions** - количество вопросов, заданных пользователями на соответствующих форумах об этом фильме до премьеры  \n",
    "**directors** - режиссеры фильма (если неизвестны, то unknown)  \n",
    "**filming_locations** - области, в которых снимался фильм  \n",
    "**runtime** - продолжительность фильма в некоторых единицах, принятых в этом государстве  \n",
    "**critics_liked** - количество критиков из 100, присудивших награды фильму на предварительных закрытых показах  \n",
    "**pre-orders** - количество зрителей, заранее купивших билеты на первый показ  \n",
    "**keywords** - ключевые слова, описывающие содержание фильма\n",
    "**release_year** - год, во котором фильм был показан (конечно, в летоисчислении этого государства)\n",
    "\n",
    "Следующие поля появляются несколько раз с разными значениями i:\n",
    "\n",
    "**actor_i_known_movies** - количество известных фильмов актера i (i от 1 до 3)\n",
    "\n",
    "**actor_i_postogramm** - количество подписчиков в социальной сети \"по сто грамм\" актера i (i от 1 до 3)\n",
    "\n",
    "**actor_i_gender** - пол актера i (i от 1 до 3)\n",
    "\n",
    "**actor_i_age** - возраст актера i (i от 1 до 3)\n",
    "\n",
    "-----\n",
    "**Внимание!** Учтите, что при OHE кодировании признаки на обучении и тестировании должны совпадать! Если вы примените простое .get_dummies() или что-то подобное, то признаки на трейне и тесте получатся разные! Так что вам, вероятно, придётся придумать способ для того, чтобы сохранить их :)  \n",
    "\n",
    "### Задание 8 (ML задание, 20 баллов):\n",
    "**Данные**: датасет с ценами поддержанных автомобилей  \n",
    "**Метрика**: MAE  \n",
    "**Цели**: В данном задании следует выполнить следующие пункты:  \n",
    "1. Взять любую библиотеку градиентного бустинга\n",
    "2. Используя предложенный датасет, обучить регрессор для предсказания awards (предоставляем полную свободу в настройках и выборе методов)\n",
    "3. Загрузить решение и получить качество на закрытой выборке больше порогового значения"
   ]
  },
  {
   "cell_type": "code",
   "execution_count": 50,
   "metadata": {},
   "outputs": [],
   "source": [
    "from sklearn.pipeline import Pipeline\n",
    "from sklearn.preprocessing import MultiLabelBinarizer"
   ]
  },
  {
   "cell_type": "code",
   "execution_count": 53,
   "metadata": {
    "pycharm": {
     "name": "#%%\n"
    }
   },
   "outputs": [
    {
     "name": "stdout",
     "output_type": "stream",
     "text": [
      "29.5 s ± 0 ns per loop (mean ± std. dev. of 1 run, 1 loop each)\n"
     ]
    },
    {
     "data": {
      "text/plain": [
       "1878.5348266007916"
      ]
     },
     "execution_count": 53,
     "metadata": {},
     "output_type": "execute_result"
    }
   ],
   "source": [
    "train_file  = 'public_tests/01_boosting_movies_input/train/train.jsonl'\n",
    "test_file   = 'public_tests/01_boosting_movies_input/test/test.jsonl'\n",
    "y_test_file = 'public_tests/01_boosting_movies_gt/target.json'\n",
    "\n",
    "df = pd.read_json(train_file, lines=True)\n",
    "X_train, y_train = df.drop('awards', axis='columns'), df['awards']\n",
    "X_test = pd.read_json(test_file, lines=True)\n",
    "y_test = pd.read_json(y_test_file, lines=True).T\n",
    "\n",
    "trials = Trials()\n",
    "def objective(pipeline, X, y):\n",
    "    def quality(params):\n",
    "        pipeline['regressor'].set_params(**params)\n",
    "        score = cross_val_score(pipeline, X, y, scoring='neg_mean_absolute_error')\n",
    "        return -score.mean()\n",
    "    return quality\n",
    "grid = {\n",
    "    'n_estimators': scope.int(hp.uniform('n_estimators', 100, 3000)),\n",
    "    'max_depth': hp.choice('max_depth', np.arange(5,12)),\n",
    "    'learning_rate': hp.loguniform('learning_rate', low=-6*np.log(10), high=0)\n",
    "}\n",
    "\n",
    "class Transformer:\n",
    "    cat_features = ['actor_0_gender', 'actor_1_gender', 'actor_2_gender', 'genres', 'filming_locations', 'directors', 'keywords']\n",
    "    def fit(self, x, y):\n",
    "        self.mlb = []\n",
    "        for cat_feature in Transformer.cat_features:\n",
    "            if cat_feature == 'keywords':\n",
    "                mlb = MultiLabelBinarizer(sparse_output=True)\n",
    "            else:\n",
    "                mlb = MultiLabelBinarizer()\n",
    "            feature = x[cat_feature].apply(lambda elem: [elem] if type(elem) is str else elem)\n",
    "            mlb.fit(feature)\n",
    "            mlb.classes_ = np.asarray(list(map(lambda x: ' '.join(x.split(', ')), mlb.classes_)), dtype=object)\n",
    "            self.mlb.append(mlb)\n",
    "\n",
    "    def fit_transform(self, x, y):\n",
    "        self.fit(x, y)\n",
    "        return self.transform(x)\n",
    "\n",
    "    def transform(self, x):\n",
    "        x = x.copy()\n",
    "        for i, cat_feature in enumerate(Transformer.cat_features):\n",
    "            x[cat_feature] = x[cat_feature].apply(lambda elem: [elem] if type(elem) is str else elem)\n",
    "            if cat_feature == 'keywords':\n",
    "                x = x.join(pd.DataFrame.sparse.from_spmatrix(self.mlb[i].transform(x.pop(cat_feature)), columns=cat_feature+'_'+self.mlb[i].classes_, index=x.index))\n",
    "            else:\n",
    "                x = x.join(pd.DataFrame(self.mlb[i].transform(x.pop(cat_feature)), columns=cat_feature+'_'+self.mlb[i].classes_, index=x.index))\n",
    "        return x\n",
    "    \n",
    "params = {'learning_rate': 0.04841199889779091, 'max_depth': 6, 'n_estimators': 900}\n",
    "\n",
    "best_model = Pipeline(steps=[('transformer', Transformer()), ('regressor', CatBoostRegressor(verbose=False, **params))])\n",
    "%timeit -r1 -n1 best_model.fit(X_train, y_train)\n",
    "y_pred = best_model.predict(X_test)\n",
    "mean_absolute_error(y_test, y_pred)"
   ]
  },
  {
   "cell_type": "markdown",
   "metadata": {},
   "source": [
    "\n",
    "## Конец\n",
    "\n",
    "Ну что детишки... Можете добавлять еще 4 библиотеки в своё резюме датасаентиста!\n"
   ]
  }
 ],
 "metadata": {
  "kernelspec": {
   "display_name": "Python 3 (ipykernel)",
   "language": "python",
   "name": "python3"
  },
  "language_info": {
   "codemirror_mode": {
    "name": "ipython",
    "version": 3
   },
   "file_extension": ".py",
   "mimetype": "text/x-python",
   "name": "python",
   "nbconvert_exporter": "python",
   "pygments_lexer": "ipython3",
   "version": "3.9.7"
  }
 },
 "nbformat": 4,
 "nbformat_minor": 1
}
